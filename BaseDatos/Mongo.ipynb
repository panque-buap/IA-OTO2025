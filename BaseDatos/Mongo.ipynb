{
 "cells": [
  {
   "cell_type": "code",
   "execution_count": 18,
   "id": "3d309a2d-ac09-4c04-81ca-223cffb87797",
   "metadata": {},
   "outputs": [],
   "source": [
    "#El objetivo de este programa es mostrar como utilizar una base de datos (no relacional)\n",
    "#en específico de MongoDB mediante el uso de python\n",
    "#haciendo enfásis en la programación orientada a objetos.\n",
    "\n",
    "from pymongo import MongoClient  #Incluir bibliotecas para poder enlazar MongoDB con python\n",
    "from decouple import AutoConfig  #Esta biblioteca me permite mandar a llamar parametros sensibles en mi código sin que se visualicen\n",
    "import os\n",
    " "
   ]
  },
  {
   "cell_type": "code",
   "execution_count": 19,
   "id": "0a39f5ad-2c2b-4806-a75e-93d5c43d5976",
   "metadata": {},
   "outputs": [],
   "source": [
    "configuracion = AutoConfig(os.getcwd())"
   ]
  },
  {
   "cell_type": "code",
   "execution_count": 26,
   "id": "76c85285-8ee3-48ec-894d-46557fb84b1b",
   "metadata": {},
   "outputs": [],
   "source": [
    "\n",
    "class MongoDB():\n",
    "\n",
    "    def __init__(self,credenciales): #Realizar la conexión a la BD de manera automática tan pronto\n",
    "        #se ingrese al método constructor\n",
    "\n",
    "        uri = configuracion('CREDENCIALES')\n",
    "        # Create a new client and connect to the server\n",
    "        client = MongoClient(uri)   #server_api=ServerApi('1'))\n",
    "        # Send a ping to confirm a successful connection\n",
    "        db = client[\"VARIABLES_SENSORES\"]\n",
    "        self.collection = db[\"SensoresAmbientales\"]\n",
    "        \n",
    "        try:\n",
    "            client.admin.command('ping')\n",
    "            print(\"Pinged your deployment. You successfully connected to MongoDB!\")\n",
    "        except Exception as e:\n",
    "            print(e)\n",
    "\n",
    "    def escribir(self, mensaje):\n",
    "        self.collection.insert_one(mensaje).inserted_id\n",
    "        print(\"Documento guardado\")\n",
    "\n",
    "    def leer(self):\n",
    "        documents = self.collection.find({})\n",
    "        for doc in documents:\n",
    "            print(doc)\n",
    "        pass\n",
    "\n"
   ]
  },
  {
   "cell_type": "code",
   "execution_count": 27,
   "id": "48cd6a92-a14b-455b-8ec6-02c01aa837e1",
   "metadata": {},
   "outputs": [
    {
     "name": "stdout",
     "output_type": "stream",
     "text": [
      "Pinged your deployment. You successfully connected to MongoDB!\n"
     ]
    }
   ],
   "source": [
    "BD_ER = MongoDB(credenciales)"
   ]
  },
  {
   "cell_type": "code",
   "execution_count": 28,
   "id": "343fb6e7-4be7-433d-ae84-2506159a1b94",
   "metadata": {},
   "outputs": [
    {
     "name": "stdout",
     "output_type": "stream",
     "text": [
      "Documento guardado\n"
     ]
    }
   ],
   "source": [
    "# Document to insert\n",
    "info = {\n",
    "    \"Sensor1\": 4095,\n",
    "    \"Sensor2\": 30,\n",
    "    \"city\": \"Puebla\"\n",
    "}\n",
    "\n",
    "BD1.escribir(info)\n"
   ]
  },
  {
   "cell_type": "code",
   "execution_count": 29,
   "id": "930a5b64-e034-4d6e-b159-7721e8a15ee1",
   "metadata": {},
   "outputs": [
    {
     "name": "stdout",
     "output_type": "stream",
     "text": [
      "{'_id': ObjectId('68af9d5c8ce37395306d7f89'), 'name': 'John Doe', 'age': 30, 'city': 'Puebla'}\n",
      "{'_id': ObjectId('68af9df48ce37395306d7f8b'), 'Sensor1': 4095, 'Sensor2': 30, 'city': 'Puebla'}\n"
     ]
    }
   ],
   "source": [
    "BD1.leer()"
   ]
  },
  {
   "cell_type": "code",
   "execution_count": null,
   "id": "b3fa301c-02a6-4e1f-b539-c17df6e9eb92",
   "metadata": {},
   "outputs": [],
   "source": []
  }
 ],
 "metadata": {
  "kernelspec": {
   "display_name": "Python 3 (ipykernel)",
   "language": "python",
   "name": "python3"
  },
  "language_info": {
   "codemirror_mode": {
    "name": "ipython",
    "version": 3
   },
   "file_extension": ".py",
   "mimetype": "text/x-python",
   "name": "python",
   "nbconvert_exporter": "python",
   "pygments_lexer": "ipython3",
   "version": "3.13.5"
  }
 },
 "nbformat": 4,
 "nbformat_minor": 5
}
