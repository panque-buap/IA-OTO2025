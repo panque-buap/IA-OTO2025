{
 "cells": [
  {
   "cell_type": "code",
   "execution_count": 2,
   "id": "50a5f1d4",
   "metadata": {},
   "outputs": [],
   "source": [
    "class AlgoritmosIA():\n",
    "    def Algoritmo1IA():\n",
    "        print(\"Algoritmo1IA\")\n",
    "\n",
    "class AlgoritmosEstructurasDatos:\n",
    "    def AlgoritmoED1():\n",
    "        print(\"AlgoritmoED1\")\n",
    "\n",
    "class AlgortimosColor:\n",
    "    def AlgoritmoColor1():\n",
    "        print(\"AlgoritmoColor1\")\n",
    "\n",
    "class AlgortimosOdernamiento:\n",
    "    def AlgoritmoOrdenamiento1():\n",
    "        print(\"AlgoritmoOrdenamiento1\")\n",
    "\n"
   ]
  },
  {
   "cell_type": "code",
   "execution_count": null,
   "id": "283dc0e5",
   "metadata": {},
   "outputs": [],
   "source": []
  }
 ],
 "metadata": {
  "kernelspec": {
   "display_name": "Python 3 (ipykernel)",
   "language": "python",
   "name": "python3"
  },
  "language_info": {
   "codemirror_mode": {
    "name": "ipython",
    "version": 3
   },
   "file_extension": ".py",
   "mimetype": "text/x-python",
   "name": "python",
   "nbconvert_exporter": "python",
   "pygments_lexer": "ipython3",
   "version": "3.9.13"
  }
 },
 "nbformat": 4,
 "nbformat_minor": 5
}
