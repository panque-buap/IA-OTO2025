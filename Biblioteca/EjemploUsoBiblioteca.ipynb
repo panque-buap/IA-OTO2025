{
 "cells": [
  {
   "cell_type": "code",
   "execution_count": 1,
   "id": "ea464ec3",
   "metadata": {},
   "outputs": [],
   "source": [
    "import numpy as num\n",
    "import pandas as pd\n",
    "import matplotlib.pyplot as plot"
   ]
  },
  {
   "cell_type": "code",
   "execution_count": null,
   "id": "41373c6d",
   "metadata": {},
   "outputs": [],
   "source": [
    "import Algoritmos as Algor"
   ]
  },
  {
   "cell_type": "code",
   "execution_count": null,
   "id": "4b2c53dd",
   "metadata": {},
   "outputs": [],
   "source": [
    "ObjetoAlgoritmo = Algor.AlgoritmosIA()"
   ]
  },
  {
   "cell_type": "code",
   "execution_count": null,
   "id": "867fab2a",
   "metadata": {},
   "outputs": [],
   "source": [
    "ObjetoAlgoritmo.Algoritmo1IA()"
   ]
  },
  {
   "cell_type": "code",
   "execution_count": 4,
   "id": "3b7b4398",
   "metadata": {},
   "outputs": [],
   "source": [
    "from Algoritmos import AlgoritmosColor "
   ]
  },
  {
   "cell_type": "code",
   "execution_count": null,
   "id": "7542488a",
   "metadata": {},
   "outputs": [],
   "source": []
  }
 ],
 "metadata": {
  "kernelspec": {
   "display_name": "Python 3 (ipykernel)",
   "language": "python",
   "name": "python3"
  },
  "language_info": {
   "codemirror_mode": {
    "name": "ipython",
    "version": 3
   },
   "file_extension": ".py",
   "mimetype": "text/x-python",
   "name": "python",
   "nbconvert_exporter": "python",
   "pygments_lexer": "ipython3",
   "version": "3.9.13"
  }
 },
 "nbformat": 4,
 "nbformat_minor": 5
}
