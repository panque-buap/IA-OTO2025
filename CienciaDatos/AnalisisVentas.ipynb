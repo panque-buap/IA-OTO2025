{
 "cells": [
  {
   "cell_type": "code",
   "execution_count": 5,
   "id": "c1fc23b5-5a76-4792-ad54-c7d2d9f1a8d8",
   "metadata": {},
   "outputs": [
    {
     "data": {
      "text/html": [
       "<div>\n",
       "<style scoped>\n",
       "    .dataframe tbody tr th:only-of-type {\n",
       "        vertical-align: middle;\n",
       "    }\n",
       "\n",
       "    .dataframe tbody tr th {\n",
       "        vertical-align: top;\n",
       "    }\n",
       "\n",
       "    .dataframe thead th {\n",
       "        text-align: right;\n",
       "    }\n",
       "</style>\n",
       "<table border=\"1\" class=\"dataframe\">\n",
       "  <thead>\n",
       "    <tr style=\"text-align: right;\">\n",
       "      <th></th>\n",
       "      <th>Nombre</th>\n",
       "      <th>Apellido</th>\n",
       "      <th>Edad</th>\n",
       "      <th>ID</th>\n",
       "      <th>Ventas</th>\n",
       "      <th>Trimestre</th>\n",
       "    </tr>\n",
       "  </thead>\n",
       "  <tbody>\n",
       "    <tr>\n",
       "      <th>0</th>\n",
       "      <td>Juan</td>\n",
       "      <td>Perez</td>\n",
       "      <td>30</td>\n",
       "      <td>111</td>\n",
       "      <td>150</td>\n",
       "      <td>1</td>\n",
       "    </tr>\n",
       "    <tr>\n",
       "      <th>1</th>\n",
       "      <td>Maria</td>\n",
       "      <td>Martinez</td>\n",
       "      <td>27</td>\n",
       "      <td>222</td>\n",
       "      <td>29</td>\n",
       "      <td>1</td>\n",
       "    </tr>\n",
       "    <tr>\n",
       "      <th>2</th>\n",
       "      <td>Mario</td>\n",
       "      <td>Sanchez</td>\n",
       "      <td>19</td>\n",
       "      <td>333</td>\n",
       "      <td>78</td>\n",
       "      <td>1</td>\n",
       "    </tr>\n",
       "    <tr>\n",
       "      <th>3</th>\n",
       "      <td>Ana</td>\n",
       "      <td>Cortes</td>\n",
       "      <td>25</td>\n",
       "      <td>444</td>\n",
       "      <td>17</td>\n",
       "      <td>1</td>\n",
       "    </tr>\n",
       "    <tr>\n",
       "      <th>4</th>\n",
       "      <td>Pedro</td>\n",
       "      <td>Herrera</td>\n",
       "      <td>48</td>\n",
       "      <td>555</td>\n",
       "      <td>90</td>\n",
       "      <td>1</td>\n",
       "    </tr>\n",
       "    <tr>\n",
       "      <th>5</th>\n",
       "      <td>Pedro</td>\n",
       "      <td>Herrera</td>\n",
       "      <td>48</td>\n",
       "      <td>555</td>\n",
       "      <td>15</td>\n",
       "      <td>2</td>\n",
       "    </tr>\n",
       "  </tbody>\n",
       "</table>\n",
       "</div>"
      ],
      "text/plain": [
       "   Nombre  Apellido  Edad   ID  Ventas  Trimestre\n",
       "0    Juan     Perez    30  111     150          1\n",
       "1  Maria   Martinez    27  222      29          1\n",
       "2   Mario   Sanchez    19  333      78          1\n",
       "3     Ana    Cortes    25  444      17          1\n",
       "4   Pedro   Herrera    48  555      90          1\n",
       "5   Pedro   Herrera    48  555      15          2"
      ]
     },
     "execution_count": 5,
     "metadata": {},
     "output_type": "execute_result"
    }
   ],
   "source": [
    "import pandas as pd\n",
    "df = pd.read_excel(\"Ventas.xlsx\", skiprows=1)\n",
    "df"
   ]
  },
  {
   "cell_type": "code",
   "execution_count": 6,
   "id": "5b1067dc-7510-42d6-8a18-f32878dc430f",
   "metadata": {},
   "outputs": [
    {
     "data": {
      "text/plain": [
       "0      Juan\n",
       "1    Maria \n",
       "2     Mario\n",
       "3       Ana\n",
       "4     Pedro\n",
       "5     Pedro\n",
       "Name: Nombre, dtype: object"
      ]
     },
     "metadata": {},
     "output_type": "display_data"
    }
   ],
   "source": [
    "display(df[\"Nombre\"])"
   ]
  },
  {
   "cell_type": "code",
   "execution_count": 7,
   "id": "21d2a2d7-b4dc-4269-94a2-196c77aaec78",
   "metadata": {},
   "outputs": [
    {
     "data": {
      "text/plain": [
       "array(['Juan', 'Maria ', 'Mario', 'Ana', 'Pedro'], dtype=object)"
      ]
     },
     "metadata": {},
     "output_type": "display_data"
    }
   ],
   "source": [
    "display(df[\"Nombre\"].unique())"
   ]
  },
  {
   "cell_type": "code",
   "execution_count": 9,
   "id": "e415c64f-d490-4f3b-a0e5-b6e99fb1dedf",
   "metadata": {},
   "outputs": [
    {
     "data": {
      "text/plain": [
       "['Juan', 'Maria ', 'Mario', 'Ana', 'Pedro']"
      ]
     },
     "execution_count": 9,
     "metadata": {},
     "output_type": "execute_result"
    }
   ],
   "source": [
    "listaVendedores = df[\"Nombre\"].unique().tolist()\n",
    "listaVendedores"
   ]
  },
  {
   "cell_type": "code",
   "execution_count": 10,
   "id": "67f2cbee-eb0a-4471-9960-098b18ddb2a4",
   "metadata": {},
   "outputs": [
    {
     "data": {
      "text/plain": [
       "5"
      ]
     },
     "execution_count": 10,
     "metadata": {},
     "output_type": "execute_result"
    }
   ],
   "source": [
    "len(listaVendedores)"
   ]
  },
  {
   "cell_type": "code",
   "execution_count": 14,
   "id": "e57d2063-c3d5-4ebc-b8a0-ed1d800668db",
   "metadata": {},
   "outputs": [
    {
     "name": "stdout",
     "output_type": "stream",
     "text": [
      "['Juan', 'Maria ', 'Mario', 'Ana', 'Pedro']\n"
     ]
    },
    {
     "name": "stdin",
     "output_type": "stream",
     "text": [
      "Ingrese el nombre del vendedor X a buscar Maria\n"
     ]
    }
   ],
   "source": [
    "#Crear un nuevo dataframe en Pandas\n",
    "\n",
    "ndf = pd.DataFrame(columns=[\"Nombre\", \"Ventas\", \"Trimestre\"])\n",
    "\n",
    "listaVendedores = df[\"Nombre\"].unique().tolist()\n",
    "print(listaVendedores)\n",
    "\n",
    "#El objetivo es buscar las ventas del vendedor X y generar un nuevo dataframe con su información\n",
    "\n",
    "vendedor = input(\"Ingrese el nombre del vendedor X a buscar\")\n",
    "\n",
    "\n",
    "for indice in df.index:\n",
    "    if df[\"Nombre\"][indice] == vendedor:\n",
    "\n",
    "        nRow = { \"Nombre\" : df[\"Nombre\"][indice],\n",
    "                \"Ventas\": df[\"Ventas\"][indice] ,\n",
    "                \"Trimestre\": df[\"Trimestre\"][indice]\n",
    "        }\n",
    "\n",
    "        ndf.loc[(len(ndf)) = nRow\n",
    "\n",
    "        \n",
    "        \n"
   ]
  },
  {
   "cell_type": "code",
   "execution_count": null,
   "id": "5397f962-35ed-48a1-ab51-1ef85b898c5f",
   "metadata": {},
   "outputs": [],
   "source": []
  }
 ],
 "metadata": {
  "kernelspec": {
   "display_name": "Python 3 (ipykernel)",
   "language": "python",
   "name": "python3"
  },
  "language_info": {
   "codemirror_mode": {
    "name": "ipython",
    "version": 3
   },
   "file_extension": ".py",
   "mimetype": "text/x-python",
   "name": "python",
   "nbconvert_exporter": "python",
   "pygments_lexer": "ipython3",
   "version": "3.13.5"
  }
 },
 "nbformat": 4,
 "nbformat_minor": 5
}
