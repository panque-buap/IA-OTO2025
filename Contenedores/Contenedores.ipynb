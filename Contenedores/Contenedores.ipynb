{
 "cells": [
  {
   "cell_type": "code",
   "execution_count": 7,
   "id": "7b0fc39a-dcaa-4d19-a7c9-13dd2240a8cb",
   "metadata": {},
   "outputs": [
    {
     "name": "stdout",
     "output_type": "stream",
     "text": [
      "[1, 'a', 'Hola']\n",
      "<class 'list'>\n",
      "[2, 'b', 'Adios']\n",
      "Adios\n",
      "[2, 'b', 'Hola']\n",
      "[2, 2, 'Hola']\n",
      "[1, 'a', 'Hola']\n"
     ]
    }
   ],
   "source": [
    "#Un contenedor en Python es una estructura de datos \n",
    "#(es decir es un espacio en la memoria de la computadora que \n",
    "# me sirve para guardar múltiples variables de tal forma que sea \n",
    "#fácil de declarar y de trabajar)\n",
    "\n",
    "#Nota: un contenedor ya esta predeterminado en Python\n",
    "\n",
    "#En Python existen 4 contenedores\n",
    "#listas\n",
    "#tuplas\n",
    "#conjuntos\n",
    "#diccionarios\n",
    "\n",
    "#Un arreglo en programación es un conjunto de datos del mismo tipo \n",
    "\n",
    "#Una lista es un cojunto de datos que tienen las siguientes características:\n",
    "# es mutable (que puede cambiar)\n",
    "# tiene orden (tiene indice)\n",
    "# se pueden repetir los datos\n",
    "\n",
    "\n",
    "lista = [1, 'a', \"Hola\"]\n",
    "print(lista)\n",
    "print(type(lista))\n",
    "\n",
    "lista = [2, 'b', \"Adios\"]\n",
    "print(lista)\n",
    "\n",
    "print(lista[2])\n",
    "\n",
    "lista[2] = \"Hola\"\n",
    "print(lista)\n",
    "\n",
    "lista = [2, 2, \"Hola\"]\n",
    "print(lista)\n",
    "\n",
    "lista = list([1, 'a', \"Hola\"])\n",
    "print(lista)\n",
    "\n"
   ]
  },
  {
   "cell_type": "code",
   "execution_count": 13,
   "id": "901292ed-72f7-4359-85c9-9761ae7e4111",
   "metadata": {},
   "outputs": [
    {
     "name": "stdout",
     "output_type": "stream",
     "text": [
      "(1, 'a', 'Hola')\n",
      "Hola\n",
      "(1, 1, 'Hola')\n",
      "(2, 3, 'Adios')\n",
      "(1, 1, 'Hola')\n"
     ]
    }
   ],
   "source": [
    "#Una tupla es un cojunto de datos que tienen las siguientes características:\n",
    "# NO es mutable (que puede cambiar)\n",
    "# tiene orden (tiene indice)\n",
    "# se pueden repetir los datos\n",
    "\n",
    "tupla = (1, 'a', \"Hola\")\n",
    "print(tupla)\n",
    "\n",
    "print(tupla[2])\n",
    "\n",
    "tupla = (1, 1, \"Hola\")\n",
    "print(tupla)\n",
    "\n",
    "# tupla[2] = \"Adios\"\n",
    "# print(tupla)\n",
    "\n",
    "tupla = (2, 3, \"Adios\")\n",
    "print(tupla)\n",
    "\n",
    "tupla = tuple([1, 1, \"Hola\"])\n",
    "print(tupla)"
   ]
  },
  {
   "cell_type": "code",
   "execution_count": 17,
   "id": "71b8dc21-a873-4337-b2fa-12b10931a932",
   "metadata": {},
   "outputs": [
    {
     "name": "stdout",
     "output_type": "stream",
     "text": [
      "{1, 2, 3}\n",
      "{1, 2, 3, 4}\n",
      "{1, 2, 3, 4, 5}\n"
     ]
    }
   ],
   "source": [
    "#Un conjunto es un cojunto de datos que tienen las siguientes características:\n",
    "# es mutable (que puede cambiar)\n",
    "# No tiene orden (No tiene indice)\n",
    "# No se pueden repetir los datos\n",
    "\n",
    "conjunto = {1, 1, 2, 2, 3}\n",
    "print(conjunto)\n",
    "\n",
    "#print(conjunto[2])\n",
    "\n",
    "conjunto.add(4)\n",
    "print(conjunto)\n",
    "\n",
    "\n",
    "conjunto = set([1,1,2,3,4,5,5])\n",
    "print(conjunto)\n"
   ]
  },
  {
   "cell_type": "code",
   "execution_count": 21,
   "id": "c6f34177-af8c-46df-a54f-47eba464e1d1",
   "metadata": {},
   "outputs": [
    {
     "name": "stdout",
     "output_type": "stream",
     "text": [
      "{'carro': 'maquina de transporte', 'computadora': 'aparato electrónico que procesa informacion', 'silla': 'mueble para sentarse'}\n",
      "mueble para sentarse\n",
      "{'carro': 'maquina de 4 llantas', 'computadora': 'aparato electrónico que procesa informacion', 'silla': 'mueble para sentarse'}\n",
      "{'carro': 'maquina de 4 llantas', 'computadora': 'CPU', 'silla': 'mueble para sentarse'}\n"
     ]
    }
   ],
   "source": [
    "#Un diccionario es un cojunto de datos que tienen las siguientes características:\n",
    "\n",
    "# es mutable (que puede cambiar)\n",
    "# Si tiene orden (No usa indices, va a utilizar una palabra clave)\n",
    "# No se pueden repetir los datos\n",
    "\n",
    "\n",
    "diccionario = {\"carro\": \"maquina de transporte\", \n",
    "              \"computadora\": \"aparato electrónico que procesa informacion\",\n",
    "              \"silla\": \"mueble para sentarse\"}\n",
    "\n",
    "print(diccionario)\n",
    "\n",
    "print(diccionario[\"silla\"])\n",
    "\n",
    "\n",
    "diccionario = {\"carro\": \"maquina de transporte\", \n",
    "              \"computadora\": \"aparato electrónico que procesa informacion\",\n",
    "              \"silla\": \"mueble para sentarse\",\n",
    "              \"carro\": \"maquina de 4 llantas\"}\n",
    "\n",
    "print(diccionario)\n",
    "\n",
    "diccionario[\"computadora\"] = \"CPU\"\n",
    "\n",
    "print(diccionario)\n",
    "\n"
   ]
  },
  {
   "cell_type": "code",
   "execution_count": null,
   "id": "ee96f4df-616e-4994-9e22-0cf1bd5c8e0f",
   "metadata": {},
   "outputs": [],
   "source": []
  }
 ],
 "metadata": {
  "kernelspec": {
   "display_name": "Python 3 (ipykernel)",
   "language": "python",
   "name": "python3"
  },
  "language_info": {
   "codemirror_mode": {
    "name": "ipython",
    "version": 3
   },
   "file_extension": ".py",
   "mimetype": "text/x-python",
   "name": "python",
   "nbconvert_exporter": "python",
   "pygments_lexer": "ipython3",
   "version": "3.13.5"
  }
 },
 "nbformat": 4,
 "nbformat_minor": 5
}
