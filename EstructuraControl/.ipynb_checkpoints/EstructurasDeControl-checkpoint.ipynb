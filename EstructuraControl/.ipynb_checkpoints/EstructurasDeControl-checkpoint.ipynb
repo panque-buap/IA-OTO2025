{
 "cells": [
  {
   "cell_type": "code",
   "execution_count": 15,
   "id": "fb68035c-4218-44b9-ba10-a0b2d8c33076",
   "metadata": {},
   "outputs": [
    {
     "name": "stdin",
     "output_type": "stream",
     "text": [
      "Ingresa numero:  10\n"
     ]
    },
    {
     "name": "stdout",
     "output_type": "stream",
     "text": [
      "<class 'str'>\n",
      "10\n",
      "<class 'int'>\n",
      "Diferente de 3\n"
     ]
    }
   ],
   "source": [
    "#Una estructura de control es una herramienta que me permite\n",
    "#gestionar el flujo de información en un programa\n",
    "\n",
    "#secuencial\n",
    "#condicional (if / if else / if else if / case)\n",
    "# iteración (for o while)\n",
    "\n",
    "#En el lenguaje de programación Python para \n",
    "#realizar una estructura de control secuencial\n",
    "#únicamente debemos escribir linea tras linea\n",
    "\n",
    "#Ejemplo estructura de control secuencial\n",
    "\n",
    "numero = input(\"Ingresa numero: \")\n",
    "print(type(numero))\n",
    "\n",
    "numero = int(numero) #Type cast\n",
    "print(numero)\n",
    "print(type(numero))\n",
    "\n",
    "#En una estructura de control condicional\n",
    "#hacemos uso de alguna sentencia que me permita \n",
    "#decidir si continuo con la secuencia o si me la salto\n",
    "#dependiendo de una condición\n",
    "\n",
    "#Ejemplo structura de control condicional\n",
    "\n",
    "\n",
    "#Uso de únicamente if\n",
    "if (numero == 3):\n",
    "    print(\"El numero es 3\")\n",
    "\n",
    "#Uso de if else\n",
    "if (numero == 3):\n",
    "    print(\"El numero es 3\")\n",
    "else:\n",
    "    print(\"Diferente de 3\")\n",
    "\n",
    "\n",
    "\n"
   ]
  },
  {
   "cell_type": "code",
   "execution_count": 16,
   "id": "9af3a329-7ef8-4ca4-b824-883317ef65da",
   "metadata": {},
   "outputs": [
    {
     "name": "stdout",
     "output_type": "stream",
     "text": [
      "Diferente de 3, 4 y 5\n",
      "10\n"
     ]
    }
   ],
   "source": [
    "#Uso de if else if \n",
    "\n",
    "if (numero == 3):\n",
    "    print(\"El numero es 3\")\n",
    "elif (numero == 4):\n",
    "    print(\"El numero es 4\")\n",
    "elif (numero == 5):\n",
    "    print(\"El numero es 5\")\n",
    "else:\n",
    "    print(\"Diferente de 3, 4 y 5\")\n",
    "\n",
    "print(numero)"
   ]
  },
  {
   "cell_type": "code",
   "execution_count": 19,
   "id": "164269c8-6996-46fb-ab4f-68d017f682bd",
   "metadata": {},
   "outputs": [
    {
     "name": "stdin",
     "output_type": "stream",
     "text": [
      "Ingrese numero 4\n"
     ]
    }
   ],
   "source": [
    "#En python la estructura de control switch case se utiliza mediante\n",
    "#la sentencia match\n",
    "\n",
    "#ejemplo match\n",
    "\n",
    "numero = int(input(\"Ingrese numero\"))\n",
    "\n",
    "match numero:\n",
    "    case 1:\n",
    "        print(\"1\")\n",
    "    case 2: \n",
    "        print(\"2\")\n",
    "\n",
    "#Match solamente sirve para versiones Python 3.10 en adelante"
   ]
  },
  {
   "cell_type": "code",
   "execution_count": 20,
   "id": "b982f030-ab70-4183-b9a0-8a3b3482177a",
   "metadata": {},
   "outputs": [
    {
     "name": "stdout",
     "output_type": "stream",
     "text": [
      "3.13.5 | packaged by Anaconda, Inc. | (main, Jun 12 2025, 16:37:03) [MSC v.1929 64 bit (AMD64)]\n"
     ]
    }
   ],
   "source": [
    "#Versión de python\n",
    "import sys\n",
    "print(sys.version)"
   ]
  },
  {
   "cell_type": "code",
   "execution_count": null,
   "id": "0d181479-f3ea-47ec-a851-eb8c62a66c9a",
   "metadata": {},
   "outputs": [],
   "source": []
  }
 ],
 "metadata": {
  "kernelspec": {
   "display_name": "Python 3 (ipykernel)",
   "language": "python",
   "name": "python3"
  },
  "language_info": {
   "codemirror_mode": {
    "name": "ipython",
    "version": 3
   },
   "file_extension": ".py",
   "mimetype": "text/x-python",
   "name": "python",
   "nbconvert_exporter": "python",
   "pygments_lexer": "ipython3",
   "version": "3.13.5"
  }
 },
 "nbformat": 4,
 "nbformat_minor": 5
}
