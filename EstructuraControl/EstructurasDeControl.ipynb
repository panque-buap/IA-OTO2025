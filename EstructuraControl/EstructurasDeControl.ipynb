{
 "cells": [
  {
   "cell_type": "code",
   "execution_count": 15,
   "id": "fb68035c-4218-44b9-ba10-a0b2d8c33076",
   "metadata": {},
   "outputs": [
    {
     "name": "stdin",
     "output_type": "stream",
     "text": [
      "Ingresa numero:  10\n"
     ]
    },
    {
     "name": "stdout",
     "output_type": "stream",
     "text": [
      "<class 'str'>\n",
      "10\n",
      "<class 'int'>\n",
      "Diferente de 3\n"
     ]
    }
   ],
   "source": [
    "#Una estructura de control es una herramienta que me permite\n",
    "#gestionar el flujo de información en un programa\n",
    "\n",
    "#secuencial\n",
    "#condicional (if / if else / if else if / case)\n",
    "# iteración (for o while)\n",
    "\n",
    "#En el lenguaje de programación Python para \n",
    "#realizar una estructura de control secuencial\n",
    "#únicamente debemos escribir linea tras linea\n",
    "\n",
    "#Ejemplo estructura de control secuencial\n",
    "\n",
    "numero = input(\"Ingresa numero: \")\n",
    "print(type(numero))\n",
    "\n",
    "numero = int(numero) #Type cast\n",
    "print(numero)\n",
    "print(type(numero))\n",
    "\n",
    "#En una estructura de control condicional\n",
    "#hacemos uso de alguna sentencia que me permita \n",
    "#decidir si continuo con la secuencia o si me la salto\n",
    "#dependiendo de una condición\n",
    "\n",
    "#Ejemplo structura de control condicional\n",
    "\n",
    "\n",
    "#Uso de únicamente if\n",
    "if (numero == 3):\n",
    "    print(\"El numero es 3\")\n",
    "\n",
    "#Uso de if else\n",
    "if (numero == 3):\n",
    "    print(\"El numero es 3\")\n",
    "else:\n",
    "    print(\"Diferente de 3\")\n",
    "\n",
    "\n",
    "\n"
   ]
  },
  {
   "cell_type": "code",
   "execution_count": 16,
   "id": "9af3a329-7ef8-4ca4-b824-883317ef65da",
   "metadata": {},
   "outputs": [
    {
     "name": "stdout",
     "output_type": "stream",
     "text": [
      "Diferente de 3, 4 y 5\n",
      "10\n"
     ]
    }
   ],
   "source": [
    "#Uso de if else if \n",
    "\n",
    "if (numero == 3):\n",
    "    print(\"El numero es 3\")\n",
    "elif (numero == 4):\n",
    "    print(\"El numero es 4\")\n",
    "elif (numero == 5):\n",
    "    print(\"El numero es 5\")\n",
    "else:\n",
    "    print(\"Diferente de 3, 4 y 5\")\n",
    "\n",
    "print(numero)"
   ]
  },
  {
   "cell_type": "code",
   "execution_count": 2,
   "id": "7179c2b7-4fb8-440f-a160-03221f3d4589",
   "metadata": {},
   "outputs": [
    {
     "name": "stdin",
     "output_type": "stream",
     "text": [
      "Ingresa el valor de la temperatura:  75\n"
     ]
    },
    {
     "name": "stdout",
     "output_type": "stream",
     "text": [
      "temperatura en rango intermedio\n",
      "No es correcto\n"
     ]
    }
   ],
   "source": [
    "#Un condicional puede tener un conjunto de condiciones \n",
    "#las cuales pueden realizar operaciones lógicas.\n",
    "\n",
    "variableSensorTmp = int(input(\"Ingresa el valor de la temperatura: \"))\n",
    "#75\n",
    "\n",
    "#Si la temperatura del sensor esta entre 50 y 80 grados, mostrar mensaje que diga\n",
    "#temperatura en rango intermedio\n",
    "\n",
    "if (variableSensorTmp > 50) or (variableSensorTmp <80):\n",
    "        print(\"temperatura en rango intermedio\")\n",
    "\n",
    "#En python los operadores lógicos son: and, or, not\n",
    "\n",
    "variableBooleana = False\n",
    "\n",
    "if not(variableBooleana):\n",
    "    print(\"No es correcto\")\n",
    "    \n"
   ]
  },
  {
   "cell_type": "code",
   "execution_count": 19,
   "id": "164269c8-6996-46fb-ab4f-68d017f682bd",
   "metadata": {},
   "outputs": [
    {
     "name": "stdin",
     "output_type": "stream",
     "text": [
      "Ingrese numero 4\n"
     ]
    }
   ],
   "source": [
    "#En python la estructura de control switch case se utiliza mediante\n",
    "#la sentencia match\n",
    "\n",
    "#ejemplo match\n",
    "\n",
    "numero = int(input(\"Ingrese numero\"))\n",
    "\n",
    "match numero:\n",
    "    case 1:\n",
    "        print(\"1\")\n",
    "    case 2: \n",
    "        print(\"2\")\n",
    "\n",
    "#Match solamente sirve para versiones Python 3.10 en adelante"
   ]
  },
  {
   "cell_type": "code",
   "execution_count": 20,
   "id": "b982f030-ab70-4183-b9a0-8a3b3482177a",
   "metadata": {},
   "outputs": [
    {
     "name": "stdout",
     "output_type": "stream",
     "text": [
      "3.13.5 | packaged by Anaconda, Inc. | (main, Jun 12 2025, 16:37:03) [MSC v.1929 64 bit (AMD64)]\n"
     ]
    }
   ],
   "source": [
    "#Versión de python\n",
    "import sys\n",
    "print(sys.version)"
   ]
  },
  {
   "cell_type": "code",
   "execution_count": 4,
   "id": "0d181479-f3ea-47ec-a851-eb8c62a66c9a",
   "metadata": {},
   "outputs": [
    {
     "name": "stdout",
     "output_type": "stream",
     "text": [
      "0\n",
      "1\n",
      "2\n",
      "3\n",
      "4\n"
     ]
    },
    {
     "data": {
      "text/plain": [
       "' for i in range(start, stop, step):\\n    print (i) '"
      ]
     },
     "execution_count": 4,
     "metadata": {},
     "output_type": "execute_result"
    }
   ],
   "source": [
    "#Ejemplo con un ciclo for en Python\n",
    "\n",
    "for i in range(5): #Ingresar desde el indice 0 hasta el 4\n",
    "    print(i)\n",
    "\n",
    "#Estrictamente hablando la estructura de control for \n",
    "# tiene la siguiente sintaxis:\n",
    "\n",
    "''' for i in range(start, stop, step):\n",
    "    print (i) '''\n",
    "\n",
    "# for i in range(start, stop, step):\n",
    "#     print (i)\n",
    "\n"
   ]
  },
  {
   "cell_type": "code",
   "execution_count": 15,
   "id": "21af7b58-8c05-4f43-853e-b01e2e962115",
   "metadata": {},
   "outputs": [
    {
     "name": "stdout",
     "output_type": "stream",
     "text": [
      "6\n",
      "manzana\n",
      "pera\n",
      "piña\n",
      "durazno\n",
      "guayaba\n",
      "ciruela\n",
      "\n",
      "manzana\n",
      "pera\n",
      "piña\n",
      "durazno\n",
      "guayaba\n",
      "ciruela\n"
     ]
    }
   ],
   "source": [
    "#En python nosotros podemos utilizar el ciclo for incluso\n",
    "#utilizando listas\n",
    "\n",
    "listaFrutas = [\"manzana\", \"pera\", \"piña\", \"durazno\", \"guayaba\", \"ciruela\"]\n",
    "\n",
    "tamanoLista = len(listaFrutas)\n",
    "print(tamanoLista)\n",
    "for i in range(tamanoLista):\n",
    "    print(listaFrutas[i])\n",
    "    \n",
    "print(\"\")\n",
    "\n",
    "for fruta in listaFrutas:\n",
    "    print(fruta)\n"
   ]
  },
  {
   "cell_type": "code",
   "execution_count": 17,
   "id": "45765a6a-e190-43f6-9030-ce5cfcf592de",
   "metadata": {},
   "outputs": [
    {
     "name": "stdin",
     "output_type": "stream",
     "text": [
      "Ingresa valor de sensor:  100\n"
     ]
    },
    {
     "name": "stdout",
     "output_type": "stream",
     "text": [
      "Ventilador activado\n"
     ]
    },
    {
     "name": "stdin",
     "output_type": "stream",
     "text": [
      "Ingresa valor de sensor:  105\n"
     ]
    },
    {
     "name": "stdout",
     "output_type": "stream",
     "text": [
      "Ventilador activado\n"
     ]
    },
    {
     "name": "stdin",
     "output_type": "stream",
     "text": [
      "Ingresa valor de sensor:  96\n"
     ]
    },
    {
     "name": "stdout",
     "output_type": "stream",
     "text": [
      "Ventilador activado\n"
     ]
    },
    {
     "name": "stdin",
     "output_type": "stream",
     "text": [
      "Ingresa valor de sensor:  50\n"
     ]
    }
   ],
   "source": [
    "#Ejercicio con la estructura de control WHILE \n",
    "\n",
    "#Para que una estructura de control WHILE funcione se debe de cumplir una\n",
    "#condicion\n",
    "\n",
    "#Crear un programa en donde se lea la temperatura del motor y en caso de que la temperatura\n",
    "#supere cierto valor se debe activar el ventilador.\n",
    "\n",
    "#leer el sensor\n",
    "variableSensorTmp = float(input(\"Ingresa valor de sensor: \"))\n",
    "\n",
    "#Colocar un ciclo condicionante\n",
    "tmpLimite = 95\n",
    "\n",
    "while (variableSensorTmp > tmpLimite ):\n",
    "    print(\"Ventilador activado\")\n",
    "    variableSensorTmp = float(input(\"Ingresa valor de sensor: \"))\n",
    "\n",
    " \n",
    "    \n"
   ]
  },
  {
   "cell_type": "code",
   "execution_count": 23,
   "id": "728aa5d6-a2b4-4e7a-9cc5-4991f21941cd",
   "metadata": {},
   "outputs": [
    {
     "name": "stdout",
     "output_type": "stream",
     "text": [
      "Mensaje\n"
     ]
    },
    {
     "name": "stdin",
     "output_type": "stream",
     "text": [
      "Ingrese valor:  1\n"
     ]
    },
    {
     "name": "stdout",
     "output_type": "stream",
     "text": [
      "Mensaje\n"
     ]
    },
    {
     "name": "stdin",
     "output_type": "stream",
     "text": [
      "Ingrese valor:  1\n"
     ]
    },
    {
     "name": "stdout",
     "output_type": "stream",
     "text": [
      "Mensaje\n"
     ]
    },
    {
     "name": "stdin",
     "output_type": "stream",
     "text": [
      "Ingrese valor:  1\n"
     ]
    },
    {
     "name": "stdout",
     "output_type": "stream",
     "text": [
      "Mensaje\n"
     ]
    },
    {
     "name": "stdin",
     "output_type": "stream",
     "text": [
      "Ingrese valor:  5\n"
     ]
    }
   ],
   "source": [
    "#En Python no existe el DO WHILE pero nosotros podemos crear\n",
    "#un código que se comporte de la misma manera que un do while\n",
    "\n",
    "#Una manera es utilizando un IF y un WHILE\n",
    "\n",
    "#Crear un programa que mientras reciba el valor 1 va a mostrar un mensaje\n",
    "\n",
    "        \n",
    "while (True): \n",
    "    print(\"Mensaje\")\n",
    "    x = int(input(\"Ingrese valor: \"))\n",
    "    if not(x==1):\n",
    "        break\n",
    "        "
   ]
  },
  {
   "cell_type": "code",
   "execution_count": null,
   "id": "c6a1d3ae-8ff5-426d-8b6b-beaf7adb063c",
   "metadata": {},
   "outputs": [],
   "source": []
  }
 ],
 "metadata": {
  "kernelspec": {
   "display_name": "Python 3 (ipykernel)",
   "language": "python",
   "name": "python3"
  },
  "language_info": {
   "codemirror_mode": {
    "name": "ipython",
    "version": 3
   },
   "file_extension": ".py",
   "mimetype": "text/x-python",
   "name": "python",
   "nbconvert_exporter": "python",
   "pygments_lexer": "ipython3",
   "version": "3.13.5"
  }
 },
 "nbformat": 4,
 "nbformat_minor": 5
}
