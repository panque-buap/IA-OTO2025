{
 "cells": [
  {
   "cell_type": "code",
   "execution_count": 1,
   "id": "ddec906a-abae-47ec-8ca5-7e9ec408c435",
   "metadata": {},
   "outputs": [],
   "source": [
    "#El siguiente programa permite realizar la codificación de una \n",
    "#estructura de datos de tipo no linel llamada Arbol\n",
    "\n",
    "#Nota: En este ejemplo se hará uso de la programación orientada a objetos\n",
    "\n",
    "class Tree():\n",
    "    def __init__(self, dato):\n",
    "        self.dato = dato\n",
    "        self.padre = None\n",
    "        self.hijos = []\n",
    "\n",
    "    def addChild():\n",
    "        pass\n",
    "\n",
    "    def addParent():\n",
    "        pass\n",
    "\n",
    "    def deleteNode():\n",
    "        pass\n",
    "\n",
    "    def Update():\n",
    "        pass\n",
    "\n",
    "    def Level():\n",
    "        pass\n",
    "\n",
    "    def isEmpty():\n",
    "        pass\n",
    "\n",
    "    def CountNodes():\n",
    "        pass\n",
    "\n",
    "    \n",
    "        \n",
    "        \n",
    "        #almacenar el dato que va en el nodo del arbol\n",
    "        #almacenar el padre (si es que lo tiene)\n",
    "        #almacenar el o los hijos (si es que los tiene)\n",
    "\n",
    "        \n",
    "        \n"
   ]
  },
  {
   "cell_type": "code",
   "execution_count": null,
   "id": "63a85b21-c24e-4f1e-a4ff-d8b6ee863404",
   "metadata": {},
   "outputs": [],
   "source": [
    "#Organigrama\n",
    "#AgenciaAutos\n",
    "#ArbolGenealogico"
   ]
  }
 ],
 "metadata": {
  "kernelspec": {
   "display_name": "Python 3 (ipykernel)",
   "language": "python",
   "name": "python3"
  },
  "language_info": {
   "codemirror_mode": {
    "name": "ipython",
    "version": 3
   },
   "file_extension": ".py",
   "mimetype": "text/x-python",
   "name": "python",
   "nbconvert_exporter": "python",
   "pygments_lexer": "ipython3",
   "version": "3.13.5"
  }
 },
 "nbformat": 4,
 "nbformat_minor": 5
}
