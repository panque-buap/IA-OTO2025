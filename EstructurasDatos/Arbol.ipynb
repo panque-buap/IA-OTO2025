{
 "cells": [
  {
   "cell_type": "code",
   "execution_count": 14,
   "id": "ddec906a-abae-47ec-8ca5-7e9ec408c435",
   "metadata": {},
   "outputs": [],
   "source": [
    "#El siguiente programa permite realizar la codificación de una \n",
    "#estructura de datos de tipo no linel llamada Arbol\n",
    "\n",
    "#Nota: En este ejemplo se hará uso de la programación orientada a objetos\n",
    "\n",
    "class Tree():\n",
    "    def __init__(self, dato):\n",
    "        self.dato = dato\n",
    "        self.padre = None\n",
    "        self.hijos = []\n",
    "\n",
    "    def addChild(self, hijo): #self es nodoRaiz, hijo = nodoB\n",
    "        self.hijos.append(hijo) #nodoRaiz.hijos.append(nodoB)\n",
    "        hijo.padre = self\n",
    "        \n",
    "        \n",
    "        #el nombre es nodoB\n",
    "        #el datos es B\n",
    "\n",
    "    def search(self, dato):\n",
    "        pass\n",
    "        \n",
    "        \n",
    "\n",
    "    def addParent():\n",
    "        pass\n",
    "\n",
    "    def deleteNode():\n",
    "        pass\n",
    "\n",
    "    def Update():\n",
    "        pass\n",
    "\n",
    "    def Level():\n",
    "        pass\n",
    "\n",
    "    def isEmpty():\n",
    "        pass\n",
    "\n",
    "    def CountNodes():\n",
    "        pass\n",
    "\n",
    "    \n",
    "        \n",
    "        \n",
    "        #almacenar el dato que va en el nodo del arbol\n",
    "        #almacenar el padre (si es que lo tiene)\n",
    "        #almacenar el o los hijos (si es que los tiene)\n",
    "\n",
    "        \n",
    "        \n"
   ]
  },
  {
   "cell_type": "code",
   "execution_count": 15,
   "id": "63a85b21-c24e-4f1e-a4ff-d8b6ee863404",
   "metadata": {},
   "outputs": [],
   "source": [
    "#Organigrama\n",
    "#AgenciaAutos\n",
    "#ArbolGenealogico\n",
    "\n",
    "nodoRaiz = Tree(\"A\")  #nodoRaiz es el nombre del nodo (el objeto como tal)\n",
    "#mientras que A es el dato que esta contenido dentro del nodoRaiz"
   ]
  },
  {
   "cell_type": "code",
   "execution_count": 16,
   "id": "795d4ba1-4a04-42f2-8aae-8e8d61e37906",
   "metadata": {},
   "outputs": [],
   "source": [
    "nodoB = Tree(\"B\")\n",
    "nodoC = Tree(\"C\")\n",
    "nodoD = Tree(\"D\")\n",
    "nodoE = Tree(\"E\")\n",
    "nodoF = Tree(\"F\")\n",
    "nodoG = Tree(\"G\")\n",
    "nodoH = Tree(\"H\")\n",
    "nodoI = Tree(\"I\")\n",
    "nodoJ = Tree(\"J\")\n",
    "nodoK = Tree(\"K\")\n",
    "nodoL = Tree(\"L\")\n",
    "\n",
    "nodoRaiz.addChild(nodoB)\n",
    "nodoRaiz.addChild(nodoC)\n",
    "nodoRaiz.addChild(nodoD)\n",
    "\n",
    "nodoB.addChild(nodoE)\n",
    "\n",
    "nodoC.addChild(nodoF)\n",
    "nodoC.addChild(nodoG)\n",
    "\n",
    "nodoD.addChild(nodoH)\n",
    "nodoD.addChild(nodoI)\n",
    "nodoD.addChild(nodoJ)\n",
    "\n",
    "nodoG.addChild(nodoK)\n",
    "nodoG.addChild(nodoL)\n",
    "\n",
    "\n",
    "# nodoRaiz.addChild(C)\n",
    "# nodoRaiz.addChild(D)"
   ]
  },
  {
   "cell_type": "code",
   "execution_count": 17,
   "id": "4c282ff9-2c33-4f79-a066-93c7bb4b56b0",
   "metadata": {},
   "outputs": [
    {
     "name": "stdout",
     "output_type": "stream",
     "text": [
      "[<__main__.Tree object at 0x000001A6B84BA120>, <__main__.Tree object at 0x000001A6B84BB200>]\n"
     ]
    }
   ],
   "source": [
    "print(nodoG.hijos)"
   ]
  },
  {
   "cell_type": "code",
   "execution_count": null,
   "id": "e0ae51e0-1e53-4f5e-a043-8faed4716c97",
   "metadata": {},
   "outputs": [],
   "source": [
    "#nodoB esta ubicado en 0x000001A6B84951D0\n",
    "#nodoRaiz esta ubicado en 0x000001A6B88A9160"
   ]
  }
 ],
 "metadata": {
  "kernelspec": {
   "display_name": "Python 3 (ipykernel)",
   "language": "python",
   "name": "python3"
  },
  "language_info": {
   "codemirror_mode": {
    "name": "ipython",
    "version": 3
   },
   "file_extension": ".py",
   "mimetype": "text/x-python",
   "name": "python",
   "nbconvert_exporter": "python",
   "pygments_lexer": "ipython3",
   "version": "3.13.5"
  }
 },
 "nbformat": 4,
 "nbformat_minor": 5
}
