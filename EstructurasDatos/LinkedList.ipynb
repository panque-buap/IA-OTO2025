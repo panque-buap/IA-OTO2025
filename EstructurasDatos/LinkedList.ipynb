{
 "cells": [
  {
   "cell_type": "code",
   "execution_count": 10,
   "id": "7d93c354-035e-4175-9fc2-39ccf35bdb30",
   "metadata": {},
   "outputs": [],
   "source": [
    "class Node():\n",
    "    \n",
    "    def __init__(self, dato):\n",
    "        self.dato = dato\n",
    "        self.direccion = None\n",
    "        \n",
    "\n",
    "class LinkedList:\n",
    "\n",
    "    def __init__(self):\n",
    "        self.header = None\n",
    "\n",
    "    def insert(self, dato):\n",
    "        nodo = Node(dato)\n",
    "\n",
    "        if not self.header:\n",
    "            self.header = nodo\n",
    "        else:\n",
    "            self.header.direccion = nodo\n",
    "\n",
    "    def Show(self):\n",
    "        pass\n",
    "        \n",
    "            \n",
    "            \n",
    "            \n",
    "        \n",
    "        \n"
   ]
  },
  {
   "cell_type": "code",
   "execution_count": 15,
   "id": "1816e445-d9ed-414f-8ba5-ec11c7ada3f7",
   "metadata": {},
   "outputs": [],
   "source": [
    "MusicPlayer = LinkedList()\n",
    "MusicPlayer.insert(\"Despacito\")\n",
    "MusicPlayer.insert(\"Bailando\")\n",
    "MusicPlayer.insert(\"La Bicicleta\")\n",
    "MusicPlayer.insert(\"Vivir mi Vida\")\n",
    "\n",
    "# PictureCarrousel = LinkedList()\n"
   ]
  },
  {
   "cell_type": "code",
   "execution_count": 16,
   "id": "aad9fda9-d13c-4e93-8a9c-959cf70689f6",
   "metadata": {},
   "outputs": [
    {
     "name": "stdout",
     "output_type": "stream",
     "text": [
      "<__main__.Node object at 0x000002002DB73110>\n"
     ]
    }
   ],
   "source": [
    "print(MusicPlayer.header)"
   ]
  },
  {
   "cell_type": "code",
   "execution_count": 17,
   "id": "48ec190e-178d-4214-b2ec-7d27e823f170",
   "metadata": {},
   "outputs": [
    {
     "name": "stdout",
     "output_type": "stream",
     "text": [
      "Despacito\n"
     ]
    }
   ],
   "source": [
    "print(MusicPlayer.header.dato)\n"
   ]
  },
  {
   "cell_type": "code",
   "execution_count": 18,
   "id": "ab75f822-838e-4b6a-a39e-1f67200eb87c",
   "metadata": {},
   "outputs": [
    {
     "name": "stdout",
     "output_type": "stream",
     "text": [
      "<__main__.Node object at 0x000002002DB73390>\n"
     ]
    }
   ],
   "source": [
    "print(MusicPlayer.header.direccion)"
   ]
  },
  {
   "cell_type": "code",
   "execution_count": 19,
   "id": "daad87f1-3e0b-4b35-8ec6-16d5f27172a9",
   "metadata": {},
   "outputs": [
    {
     "ename": "AttributeError",
     "evalue": "'LinkedList' object has no attribute 'Show'",
     "output_type": "error",
     "traceback": [
      "\u001b[1;31m---------------------------------------------------------------------------\u001b[0m",
      "\u001b[1;31mAttributeError\u001b[0m                            Traceback (most recent call last)",
      "Cell \u001b[1;32mIn[19], line 1\u001b[0m\n\u001b[1;32m----> 1\u001b[0m MusicPlayer\u001b[38;5;241m.\u001b[39mShow()\n",
      "\u001b[1;31mAttributeError\u001b[0m: 'LinkedList' object has no attribute 'Show'"
     ]
    }
   ],
   "source": [
    "MusicPlayer.Show()"
   ]
  },
  {
   "cell_type": "code",
   "execution_count": null,
   "id": "89cdf3e0-bf3b-4552-bb17-be3fddcdaec1",
   "metadata": {},
   "outputs": [],
   "source": []
  }
 ],
 "metadata": {
  "kernelspec": {
   "display_name": "Python 3 (ipykernel)",
   "language": "python",
   "name": "python3"
  },
  "language_info": {
   "codemirror_mode": {
    "name": "ipython",
    "version": 3
   },
   "file_extension": ".py",
   "mimetype": "text/x-python",
   "name": "python",
   "nbconvert_exporter": "python",
   "pygments_lexer": "ipython3",
   "version": "3.13.5"
  }
 },
 "nbformat": 4,
 "nbformat_minor": 5
}
