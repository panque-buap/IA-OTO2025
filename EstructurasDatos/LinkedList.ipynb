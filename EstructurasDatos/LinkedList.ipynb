{
 "cells": [
  {
   "cell_type": "code",
   "execution_count": 7,
   "id": "7d93c354-035e-4175-9fc2-39ccf35bdb30",
   "metadata": {},
   "outputs": [],
   "source": [
    "class Node():\n",
    "    \n",
    "    def __init__(self, dato):\n",
    "        self.dato = dato\n",
    "        self.direccion = None\n",
    "        \n",
    "\n",
    "class LinkedList:\n",
    "\n",
    "    def __init__(self):\n",
    "        self.header = None\n",
    "\n",
    "    def insert(self, dato):\n",
    "        nodo = Node(dato)\n",
    "\n",
    "        if self.header:\n",
    "            tmp = self.header\n",
    "            while(tmp.direccion):\n",
    "                tmp = tmp.direccion\n",
    "            tmp.direccion = nodo\n",
    "        else:\n",
    "            self.header = nodo\n",
    "\n",
    "    def show(self):\n",
    "        if self.header:\n",
    "            tmp = self.header\n",
    "\n",
    "            while(tmp.direccion):\n",
    "                print(tmp.dato)\n",
    "                print(tmp.direccion)\n",
    "\n",
    "                tmp = tmp.direccion\n",
    "\n",
    "            print(tmp.dato)\n",
    "            print(tmp.direccion)\n",
    "        else:\n",
    "            print(\"Lista vacia\")\n",
    "        \n",
    "            \n",
    "            \n",
    "            \n",
    "        \n",
    "        \n"
   ]
  },
  {
   "cell_type": "code",
   "execution_count": 8,
   "id": "1816e445-d9ed-414f-8ba5-ec11c7ada3f7",
   "metadata": {},
   "outputs": [],
   "source": [
    "MusicPlayer = LinkedList()\n",
    "# MusicPlayer.insert(\"Despacito\")\n",
    "# MusicPlayer.insert(\"Bailando\")\n",
    "# MusicPlayer.insert(\"La Bicicleta\")\n",
    "# MusicPlayer.insert(\"Vivir mi Vida\")\n",
    "\n",
    "# PictureCarrousel = LinkedList()\n"
   ]
  },
  {
   "cell_type": "code",
   "execution_count": 9,
   "id": "aad9fda9-d13c-4e93-8a9c-959cf70689f6",
   "metadata": {},
   "outputs": [],
   "source": [
    "MusicPlayer.insert(\"Despacito\")"
   ]
  },
  {
   "cell_type": "code",
   "execution_count": 10,
   "id": "48ec190e-178d-4214-b2ec-7d27e823f170",
   "metadata": {},
   "outputs": [],
   "source": [
    "MusicPlayer.insert(\"Bailando\")\n"
   ]
  },
  {
   "cell_type": "code",
   "execution_count": 11,
   "id": "ab75f822-838e-4b6a-a39e-1f67200eb87c",
   "metadata": {},
   "outputs": [],
   "source": [
    "MusicPlayer.insert(\"La Bicicleta\")"
   ]
  },
  {
   "cell_type": "code",
   "execution_count": 12,
   "id": "daad87f1-3e0b-4b35-8ec6-16d5f27172a9",
   "metadata": {},
   "outputs": [],
   "source": [
    "MusicPlayer.insert(\"Vivir mi Vida\")"
   ]
  },
  {
   "cell_type": "code",
   "execution_count": 13,
   "id": "89cdf3e0-bf3b-4552-bb17-be3fddcdaec1",
   "metadata": {},
   "outputs": [
    {
     "name": "stdout",
     "output_type": "stream",
     "text": [
      "Despacito\n",
      "<__main__.Node object at 0x0000022935BC9E50>\n",
      "Bailando\n",
      "<__main__.Node object at 0x0000022935BC9F90>\n",
      "La Bicicleta\n",
      "<__main__.Node object at 0x0000022935BBA190>\n",
      "Vivir mi Vida\n",
      "None\n"
     ]
    }
   ],
   "source": [
    "MusicPlayer.show()"
   ]
  },
  {
   "cell_type": "code",
   "execution_count": 15,
   "id": "b3044239-b13d-46f9-b4a7-58ec6736b250",
   "metadata": {},
   "outputs": [
    {
     "name": "stdout",
     "output_type": "stream",
     "text": [
      "<__main__.Node object at 0x0000022935B87A10>\n"
     ]
    }
   ],
   "source": [
    "print(MusicPlayer.header)"
   ]
  },
  {
   "cell_type": "code",
   "execution_count": null,
   "id": "0fa9df4f-40b1-4008-a362-e2f47931da0c",
   "metadata": {},
   "outputs": [],
   "source": []
  }
 ],
 "metadata": {
  "kernelspec": {
   "display_name": "Python 3 (ipykernel)",
   "language": "python",
   "name": "python3"
  },
  "language_info": {
   "codemirror_mode": {
    "name": "ipython",
    "version": 3
   },
   "file_extension": ".py",
   "mimetype": "text/x-python",
   "name": "python",
   "nbconvert_exporter": "python",
   "pygments_lexer": "ipython3",
   "version": "3.13.5"
  }
 },
 "nbformat": 4,
 "nbformat_minor": 5
}
