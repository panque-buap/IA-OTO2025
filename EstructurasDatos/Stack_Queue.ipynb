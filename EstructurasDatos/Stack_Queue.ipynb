{
 "cells": [
  {
   "cell_type": "code",
   "execution_count": 3,
   "id": "12f02346-729c-462e-bc08-f42ecef02927",
   "metadata": {},
   "outputs": [
    {
     "name": "stdout",
     "output_type": "stream",
     "text": [
      "Stack con elementos añadidos\n",
      "['Java Programming for Dummies', 'Handbook of Microproccesors', 'The Robot Builder']\n",
      "Stack con elemento último eliminado\n",
      "['Java Programming for Dummies', 'Handbook of Microproccesors']\n",
      "Los elementos que integran el stack son: \n",
      "2\n",
      "\n",
      "Stack notEmpty\n"
     ]
    }
   ],
   "source": [
    "#Una estructura de datos tipo stack (pila), permite \n",
    "#almacenar datos bajo el principio LIFO (Last In, First Out)\n",
    "#es decir el ultimo elemento que ingresa es el primero que sale\n",
    "\n",
    "#Nota: Esto también podría visualizarse como\n",
    "#el primero que entra es el ultimo que sale\n",
    "\n",
    "#En Python la forma de crear un stack o una pila es la siguiente\n",
    "\n",
    "#Paso 1: Crear una lista\n",
    "\n",
    "stack = []\n",
    "\n",
    "#Paso 2: Para agregar elementos a esta pila, vamos a utilizar una operación de tipo push\n",
    "#En python existe un comando para listas que permite agregar valores a la lista creada. \n",
    "#El comando es append\n",
    "\n",
    "#nota: Tomaremos de ejemplos un stack para libros\n",
    "\n",
    "stack.append(\"Java Programming for Dummies\")\n",
    "stack.append(\"Handbook of Microproccesors\")\n",
    "stack.append(\"The Robot Builder\")\n",
    "\n",
    "print(\"Stack con elementos añadidos\")\n",
    "print(stack)\n",
    "\n",
    "#Si yo quisiera quitar elementos a esta pila, siguiendo el principio.\n",
    "#el ultimo elemento es el primero que se va a eliminar\n",
    "\n",
    "#Nota: En python para eliminar el ultimo elemento de una lista, se utiliza \n",
    "#el comando pop\n",
    "\n",
    "print(\"Stack con elemento último eliminado\")\n",
    "stack.pop()\n",
    "print(stack)\n",
    "\n",
    "#Paso 3. Para determinar la funcionalidad isEmpty \n",
    "#En python tengo que checar que el tamaño de la lista sea diferente de 0\n",
    "#En caso de que sea 0 significa que la lista esta vacia (isEmpty)\n",
    "\n",
    "#En Python se utilizado el comando len\n",
    "\n",
    "print(\"Los elementos que integran el stack son: \")\n",
    "print(len(stack))\n",
    "print(\"\")\n",
    "\n",
    "if (len(stack)==0):\n",
    "    print(\"Stack isEmpty\")\n",
    "else:\n",
    "    print(\"Stack notEmpty\")\n",
    "    \n",
    "             "
   ]
  },
  {
   "cell_type": "code",
   "execution_count": 33,
   "id": "0e6dd712-325b-4d6d-bf90-dcbb1f234e9f",
   "metadata": {},
   "outputs": [],
   "source": [
    "#Nota: Si nosotros queremos crear una plantilla para muchos stacks\n",
    "#Podemos hacer uso del paradigma de programación orientada a objetos\n",
    "#Como el ejemplo siguiente:\n",
    "\n",
    "class Pila():\n",
    "    def __init__(self):\n",
    "        self.stack = []\n",
    "\n",
    "    def push(self, dato):\n",
    "        self.stack.append(dato)\n",
    "        #agregar elementos\n",
    "\n",
    "    def printStack(self):\n",
    "        print(self.stack)\n",
    "        #imprime todos los datos del stack\n",
    "\n",
    "    def pop(self):\n",
    "        self.stack.pop()\n",
    "        #quitar elementos\n",
    "\n",
    "    def size(self):\n",
    "        print(len(self.stack))\n",
    "        #determina el tamaño del stack\n",
    "\n",
    "    def isEmpty(self):\n",
    "        if (len(self.stack)==0):\n",
    "            print(\"Stack isEmpty\")\n",
    "        else:\n",
    "            print(\"Stack notEmpty\")\n",
    "        #determina si el stack esta vacio o no\n",
    "        \n",
    "        "
   ]
  },
  {
   "cell_type": "code",
   "execution_count": 34,
   "id": "451578e7-cb18-4310-92c7-85ebc14ef703",
   "metadata": {},
   "outputs": [],
   "source": [
    "Libros = Pila()\n",
    "Tortillas = Pila()\n",
    "Platos = Pila()"
   ]
  },
  {
   "cell_type": "code",
   "execution_count": 35,
   "id": "4e41f0a5-1052-4f63-a963-afe17d395889",
   "metadata": {},
   "outputs": [],
   "source": [
    "Libros.push(\"Java Programming\")"
   ]
  },
  {
   "cell_type": "code",
   "execution_count": 36,
   "id": "9b6247fd-3705-4de4-98c1-76555d66ce47",
   "metadata": {},
   "outputs": [],
   "source": [
    "Libros.push(\"Handbook of Microproccesors\")"
   ]
  },
  {
   "cell_type": "code",
   "execution_count": 37,
   "id": "d8145d05-bccc-4311-8979-a40d3c8b89d3",
   "metadata": {},
   "outputs": [],
   "source": [
    "Libros.push(\"The Robot Builder\")"
   ]
  },
  {
   "cell_type": "code",
   "execution_count": 38,
   "id": "1b02958a-a237-4835-9029-5983ced84ecf",
   "metadata": {},
   "outputs": [
    {
     "name": "stdout",
     "output_type": "stream",
     "text": [
      "['Java Programming', 'Handbook of Microproccesors', 'The Robot Builder']\n"
     ]
    }
   ],
   "source": [
    "Libros.printStack()"
   ]
  },
  {
   "cell_type": "code",
   "execution_count": 39,
   "id": "8860b2fe-f2e7-4b3e-b3c9-c8bad11b63fb",
   "metadata": {},
   "outputs": [],
   "source": [
    "Libros.pop()"
   ]
  },
  {
   "cell_type": "code",
   "execution_count": 40,
   "id": "cc6aabbe-68ca-429b-98e2-769e2115637b",
   "metadata": {},
   "outputs": [
    {
     "name": "stdout",
     "output_type": "stream",
     "text": [
      "['Java Programming', 'Handbook of Microproccesors']\n"
     ]
    }
   ],
   "source": [
    "Libros.printStack()"
   ]
  },
  {
   "cell_type": "code",
   "execution_count": 41,
   "id": "75fbc6c8-4c52-402c-8e6a-8956f9c95338",
   "metadata": {},
   "outputs": [
    {
     "name": "stdout",
     "output_type": "stream",
     "text": [
      "2\n"
     ]
    }
   ],
   "source": [
    "Libros.size()"
   ]
  },
  {
   "cell_type": "code",
   "execution_count": 42,
   "id": "ad716791-ee6d-4ec5-92b9-3afb6acc8385",
   "metadata": {},
   "outputs": [
    {
     "name": "stdout",
     "output_type": "stream",
     "text": [
      "Stack notEmpty\n"
     ]
    }
   ],
   "source": [
    "Libros.isEmpty()"
   ]
  },
  {
   "cell_type": "code",
   "execution_count": 57,
   "id": "27c8dbca-851c-4e12-a89e-f1d1019b7dd7",
   "metadata": {},
   "outputs": [
    {
     "name": "stdout",
     "output_type": "stream",
     "text": [
      "['Persona3', 'Persona2', 'Persona1']\n",
      "['Persona3', 'Persona2']\n",
      "Los elementos que integran el queue son: \n",
      "2\n",
      "\n",
      "Queue notEmpty\n"
     ]
    }
   ],
   "source": [
    "#Una estructura de datos tipo queue (fila), permite \n",
    "#almacenar datos bajo el principio FIFO (First In, First Out)\n",
    "#es decir el primer elemento que ingresa es el primero que sale\n",
    "\n",
    "#Nota: Esto también podría visualizarse como\n",
    "#el ultimo que entra es el ultimo que sale\n",
    "\n",
    "#En Python la forma de crear un queue o una fila es la siguiente\n",
    "\n",
    "#Paso 1: Crear una lista\n",
    "\n",
    "queue = []\n",
    "\n",
    "#Paso 2: Para agregar elementos a esta fila, vamos a utilizar una operación de tipo enqueue\n",
    "#En python existe un comando para listas que permite agregar valores a la lista creada. \n",
    "#El comando es append\n",
    "\n",
    "#nota: Tomaremos de ejemplos un queue para la taquilla de un cine\n",
    "#nota2: En python el comando para añadir elementos a una lista en base a un indice\n",
    "#es el comando insert\n",
    "\n",
    "# queue.append(\"Persona1\")\n",
    "# queue.append(\"Persona2\")\n",
    "# queue.append(\"Persona3\")\n",
    "\n",
    "queue.insert(0, \"Persona1\")\n",
    "queue.insert(0, \"Persona2\")\n",
    "queue.insert(0, \"Persona3\")\n",
    "\n",
    "print(queue)\n",
    "\n",
    "\n",
    "#queue.pop(0)   #util para  TAQUILLA - PR1 - PR2 - PR3\n",
    "queue.pop()   #util para   PR3 - PR2 - PR1 - TAQUILLA \n",
    "\n",
    "print(queue)\n",
    "\n",
    "#Paso 3. Para determinar la funcionalidad isEmpty \n",
    "#En python tengo que checar que el tamaño de la lista sea diferente de 0\n",
    "#En caso de que sea 0 significa que la lista esta vacia (isEmpty)\n",
    "\n",
    "#En Python se utilizado el comando len\n",
    "print(\"Los elementos que integran el queue son: \")\n",
    "print(len(stack))\n",
    "print(\"\")\n",
    "\n",
    "if (len(queue)==0):\n",
    "    print(\"Queue isEmpty\")\n",
    "else:\n",
    "    print(\"Queue notEmpty\")\n",
    "    "
   ]
  },
  {
   "cell_type": "code",
   "execution_count": null,
   "id": "fb940058-e6e9-41cf-b261-a4da10aecd2d",
   "metadata": {},
   "outputs": [],
   "source": [
    "#TaquillaCine\n",
    "#FilaBanco\n",
    "#AutosCalle"
   ]
  },
  {
   "cell_type": "code",
   "execution_count": 61,
   "id": "3f6c5b44-0566-46c3-8cc9-ee57a6ff09af",
   "metadata": {},
   "outputs": [],
   "source": [
    "#Nota: Si nosotros queremos crear una plantilla para muchos queues\n",
    "#Podemos hacer uso del paradigma de programación orientada a objetos\n",
    "#Como el ejemplo siguiente:\n",
    "\n",
    "class Fila():\n",
    "    def __init__(self):\n",
    "        self.queue = []\n",
    "\n",
    "    def enqueue(self, dato):\n",
    "        self.queue.insert(0, dato)\n",
    "        #agregar elementos\n",
    "\n",
    "    def printQueue(self):\n",
    "        print(self.queue)\n",
    "        #imprime todos los datos del stack\n",
    "\n",
    "    def dequeue(self):\n",
    "        self.queue.pop()\n",
    "        #quitar elementos\n",
    "\n",
    "    def size(self):\n",
    "        print(len(self.queue))\n",
    "        #determina el tamaño del stack\n",
    "\n",
    "    def isEmpty(self):\n",
    "        if (len(self.queue)==0):\n",
    "            print(\"Queue isEmpty\")\n",
    "        else:\n",
    "            print(\"Queue notEmpty\")\n",
    "        #determina si el stack esta vacio o no"
   ]
  },
  {
   "cell_type": "code",
   "execution_count": 62,
   "id": "77b69b16-067d-4884-94ce-587fe5b73211",
   "metadata": {},
   "outputs": [],
   "source": [
    "TaquillaCine = Fila()\n",
    "FilaBanco = Fila()\n",
    "AutosCalle = Fila()"
   ]
  },
  {
   "cell_type": "code",
   "execution_count": 63,
   "id": "ac9c2d27-7f02-4a86-b33e-6f6669ef8541",
   "metadata": {},
   "outputs": [
    {
     "name": "stdout",
     "output_type": "stream",
     "text": [
      "['PR3', 'PR2', 'PR1']\n",
      "['PR3', 'PR2']\n",
      "2\n",
      "Queue notEmpty\n"
     ]
    }
   ],
   "source": [
    "TaquillaCine.enqueue(\"PR1\")\n",
    "TaquillaCine.enqueue(\"PR2\")\n",
    "TaquillaCine.enqueue(\"PR3\")\n",
    "\n",
    "TaquillaCine.printQueue()\n",
    "\n",
    "TaquillaCine.dequeue()\n",
    "\n",
    "TaquillaCine.printQueue()\n",
    "\n",
    "TaquillaCine.size()\n",
    "\n",
    "TaquillaCine.isEmpty()\n",
    "\n",
    "\n",
    "\n",
    "\n"
   ]
  },
  {
   "cell_type": "code",
   "execution_count": null,
   "id": "0d8c3b05-5fe9-4af8-bcc5-cd95a67f3bd0",
   "metadata": {},
   "outputs": [],
   "source": []
  }
 ],
 "metadata": {
  "kernelspec": {
   "display_name": "Python 3 (ipykernel)",
   "language": "python",
   "name": "python3"
  },
  "language_info": {
   "codemirror_mode": {
    "name": "ipython",
    "version": 3
   },
   "file_extension": ".py",
   "mimetype": "text/x-python",
   "name": "python",
   "nbconvert_exporter": "python",
   "pygments_lexer": "ipython3",
   "version": "3.13.5"
  }
 },
 "nbformat": 4,
 "nbformat_minor": 5
}
