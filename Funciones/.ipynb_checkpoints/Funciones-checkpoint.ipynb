{
 "cells": [
  {
   "cell_type": "code",
   "execution_count": null,
   "id": "25a33068-d89b-42a8-9ad8-3e6a1eff215a",
   "metadata": {},
   "outputs": [],
   "source": [
    "# ¿QUÉ ES UNA FUNCIÓN EN PROGRAMACIÓN?\n",
    "# Una función es una porción de código reutilizable que resuelve una tarea en particular\n",
    "# y que puede ser llamado en cualquier momento en cualquier parte del código.\n",
    "\n",
    "#En python se crea una función mediante la siguiente sintaxis:\n",
    "\n",
    "def NombreFuncion(parametros):\n",
    "    #codigo de la función\n",
    "    #return \n",
    "\n"
   ]
  }
 ],
 "metadata": {
  "kernelspec": {
   "display_name": "Python 3 (ipykernel)",
   "language": "python",
   "name": "python3"
  },
  "language_info": {
   "codemirror_mode": {
    "name": "ipython",
    "version": 3
   },
   "file_extension": ".py",
   "mimetype": "text/x-python",
   "name": "python",
   "nbconvert_exporter": "python",
   "pygments_lexer": "ipython3",
   "version": "3.13.5"
  }
 },
 "nbformat": 4,
 "nbformat_minor": 5
}
