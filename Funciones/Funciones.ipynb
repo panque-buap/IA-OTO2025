{
 "cells": [
  {
   "cell_type": "code",
   "execution_count": null,
   "id": "25a33068-d89b-42a8-9ad8-3e6a1eff215a",
   "metadata": {},
   "outputs": [],
   "source": [
    "# ¿QUÉ ES UNA FUNCIÓN EN PROGRAMACIÓN?\n",
    "# Una función es una porción de código reutilizable que resuelve una tarea en particular\n",
    "# y que puede ser llamado en cualquier momento en cualquier parte del código.\n",
    "\n",
    "#En python se crea una función mediante la siguiente sintaxis:\n",
    "\n",
    "def NombreFuncion(parámetros):\n",
    "    #codigo de la función\n",
    "    #return \n",
    "\n",
    "\n",
    "NombreFuncion(argumentos)"
   ]
  },
  {
   "cell_type": "code",
   "execution_count": null,
   "id": "4bb3daff-3ea4-45cd-82c1-ae2ebcf412cc",
   "metadata": {},
   "outputs": [],
   "source": [
    "#Declaración de función en C\n",
    "\n",
    "tipoDato_Funcion  nombreFuncion(tipoDato arg1, tipoDato arg2)\n",
    "{\n",
    "    //Código de la función\n",
    "    // return \n",
    "}\n"
   ]
  },
  {
   "cell_type": "code",
   "execution_count": 2,
   "id": "e0d61f29-c3e6-47a6-83e7-4a06f40d4889",
   "metadata": {},
   "outputs": [],
   "source": [
    "#Clasificación de funciones\n",
    "\n",
    "# 1.- Función con argumentos y retorno\n",
    "# 2.- Función con argumentos y sin retorno\n",
    "# 3.- Función sin argumentos y sin retorno\n",
    "# 4.- Función sin argumentos y con retorno\n",
    "\n",
    "#Ejemplo función con argumentos y retorno\n",
    "#Crear una porción que de la bienvenida a una persona cuando accede a un\n",
    "#sistema\n",
    "\n",
    "def funcionArgumentoRetorno(usuario, pwd):\n",
    "\n",
    "    if (usuario == 100) and (pwd == 12345):\n",
    "        nombre = \"Enrique\"\n",
    "        apellido = \"García\"\n",
    "    else:\n",
    "        nombre = \"Sin \"\n",
    "        apellido = \"asignar\"\n",
    "        \n",
    "    mensaje = \"Bienvenido \" + nombre + \" \" + apellido\n",
    "    return mensaje\n",
    "\n",
    "    "
   ]
  },
  {
   "cell_type": "code",
   "execution_count": 3,
   "id": "7bacf945-9800-4402-8436-10492b8bf6ab",
   "metadata": {},
   "outputs": [
    {
     "name": "stdin",
     "output_type": "stream",
     "text": [
      "Ingrese su matrícula:  100\n",
      "Ingrese su contraseña:  12345\n"
     ]
    },
    {
     "data": {
      "text/plain": [
       "'Bienvenido Enrique García'"
      ]
     },
     "execution_count": 3,
     "metadata": {},
     "output_type": "execute_result"
    }
   ],
   "source": [
    "matricula = int(input(\"Ingrese su matrícula: \"))\n",
    "contrasena = int(input(\"Ingrese su contraseña: \"))\n",
    "\n",
    "funcionArgumentoRetorno(matricula, contrasena)"
   ]
  },
  {
   "cell_type": "code",
   "execution_count": 4,
   "id": "b70eace1-c224-4cb5-b618-a600deafe42f",
   "metadata": {},
   "outputs": [],
   "source": [
    "#Ejemplo función con argumentos y sin retorno\n",
    "#Crear una porción de código que envie la posición GPS de un usuario\n",
    "#al ingresar al sistema\n",
    "\n",
    "\n",
    "def funcionArgumentoSinRetorno(usuario, pwd):\n",
    "    \n",
    "    if (usuario == 100) and (pwd == 12345):\n",
    "        coordenadas = \"19.003819215220222, -98.20111467731263\"\n",
    "    else:\n",
    "        coordenadas = \"0,0\"\n",
    "\n",
    "    print(coordenadas)\n",
    "    "
   ]
  },
  {
   "cell_type": "code",
   "execution_count": 5,
   "id": "659b0038-4f94-45af-b299-27e2815088ff",
   "metadata": {},
   "outputs": [
    {
     "name": "stdin",
     "output_type": "stream",
     "text": [
      "Ingrese su matrícula:  100\n",
      "Ingrese su contraseña:  12345\n"
     ]
    },
    {
     "name": "stdout",
     "output_type": "stream",
     "text": [
      "19.003819215220222, -98.20111467731263\n"
     ]
    }
   ],
   "source": [
    "matricula = int(input(\"Ingrese su matrícula: \"))\n",
    "contra = int(input(\"Ingrese su contraseña: \"))\n",
    "\n",
    "funcionArgumentoSinRetorno(matricula, contra)"
   ]
  },
  {
   "cell_type": "code",
   "execution_count": 6,
   "id": "71bed504-4a46-40dd-b3c6-c5006e607bc5",
   "metadata": {},
   "outputs": [],
   "source": [
    "# 3.- Función sin argumentos y sin retorno\n",
    "\n",
    "def funcionSinArgumentoSinRetorno():\n",
    "    coordenadas = input(\"Coordenadas del gps, o de la ip del dispostivo: \")\n",
    "    print(coordenadas)\n",
    "\n"
   ]
  },
  {
   "cell_type": "code",
   "execution_count": 7,
   "id": "e2fca226-daf1-4b5c-80e9-2c014f89f1ab",
   "metadata": {},
   "outputs": [
    {
     "name": "stdin",
     "output_type": "stream",
     "text": [
      "Coordenadas del gps, o de la ip del dispostivo:  1,1\n"
     ]
    },
    {
     "name": "stdout",
     "output_type": "stream",
     "text": [
      "1,1\n"
     ]
    }
   ],
   "source": [
    "funcionSinArgumentoSinRetorno()"
   ]
  },
  {
   "cell_type": "code",
   "execution_count": 8,
   "id": "662e49e7-9dbe-46b2-b48e-3d593b09fdf2",
   "metadata": {},
   "outputs": [],
   "source": [
    "# 4.- Función sin argumentos y con retorno\n",
    "\n",
    "#Escanear qr y retornar turno\n",
    "\n",
    "def funcionSinArgumentoRetorno():\n",
    "    turno = 100\n",
    "    return turno\n",
    "    \n",
    "    "
   ]
  },
  {
   "cell_type": "code",
   "execution_count": 9,
   "id": "6432dcf2-7ac7-41e6-a837-ade4c8d14902",
   "metadata": {},
   "outputs": [
    {
     "data": {
      "text/plain": [
       "100"
      ]
     },
     "execution_count": 9,
     "metadata": {},
     "output_type": "execute_result"
    }
   ],
   "source": [
    "variableNueva = funcionSinArgumentoRetorno()"
   ]
  },
  {
   "cell_type": "code",
   "execution_count": 27,
   "id": "442cab1f-e622-4587-9d1e-a20a9571d6d7",
   "metadata": {},
   "outputs": [],
   "source": [
    "#Función recursiva\n",
    "\n",
    "#Una función recursiva es aquella porción de código que\n",
    "#tiene la capacidad de ser llamada varias veces.\n",
    "\n",
    "#Ejemplo: Crear una función para obtener el valor factorial de un número\n",
    "#Recordemos un numero factorial es aquel \n",
    "#que es igual al \n",
    "#producto de todos los números enteros positivos desde 1 hasta dicho número\n",
    "\n",
    "#Factorial 3   = 1*2*3\n",
    "#Factorial 7   = 1*2*3*4*5*6*7\n",
    "\n",
    "def Factorial(numero):\n",
    "    if numero == 0:\n",
    "        return 1\n",
    "    else:\n",
    "        factorial = numero*Factorial(numero-1)\n",
    "        return factorial\n",
    "    "
   ]
  },
  {
   "cell_type": "code",
   "execution_count": 34,
   "id": "f327ccfa-bc6b-4670-bb43-68abda6e7971",
   "metadata": {},
   "outputs": [
    {
     "data": {
      "text/plain": [
       "402387260077093773543702433923003985719374864210714632543799910429938512398629020592044208486969404800479988610197196058631666872994808558901323829669944590997424504087073759918823627727188732519779505950995276120874975462497043601418278094646496291056393887437886487337119181045825783647849977012476632889835955735432513185323958463075557409114262417474349347553428646576611667797396668820291207379143853719588249808126867838374559731746136085379534524221586593201928090878297308431392844403281231558611036976801357304216168747609675871348312025478589320767169132448426236131412508780208000261683151027341827977704784635868170164365024153691398281264810213092761244896359928705114964975419909342221566832572080821333186116811553615836546984046708975602900950537616475847728421889679646244945160765353408198901385442487984959953319101723355556602139450399736280750137837615307127761926849034352625200015888535147331611702103968175921510907788019393178114194545257223865541461062892187960223838971476088506276862967146674697562911234082439208160153780889893964518263243671616762179168909779911903754031274622289988005195444414282012187361745992642956581746628302955570299024324153181617210465832036786906117260158783520751516284225540265170483304226143974286933061690897968482590125458327168226458066526769958652682272807075781391858178889652208164348344825993266043367660176999612831860788386150279465955131156552036093988180612138558600301435694527224206344631797460594682573103790084024432438465657245014402821885252470935190620929023136493273497565513958720559654228749774011413346962715422845862377387538230483865688976461927383814900140767310446640259899490222221765904339901886018566526485061799702356193897017860040811889729918311021171229845901641921068884387121855646124960798722908519296819372388642614839657382291123125024186649353143970137428531926649875337218940694281434118520158014123344828015051399694290153483077644569099073152433278288269864602789864321139083506217095002597389863554277196742822248757586765752344220207573630569498825087968928162753848863396909959826280956121450994871701244516461260379029309120889086942028510640182154399457156805941872748998094254742173582401063677404595741785160829230135358081840096996372524230560855903700624271243416909004153690105933983835777939410970027753472000000000000000000000000000000000000000000000000000000000000000000000000000000000000000000000000000000000000000000000000000000000000000000000000000000000000000000000000000000000000000000000000000000000000000000000000000000000000000000000000000000000"
      ]
     },
     "execution_count": 34,
     "metadata": {},
     "output_type": "execute_result"
    }
   ],
   "source": [
    "Factorial(1000)"
   ]
  },
  {
   "cell_type": "code",
   "execution_count": null,
   "id": "97e51170-3c9a-4f92-bb1f-7e0a851885cd",
   "metadata": {},
   "outputs": [],
   "source": [
    "1 000 000\t8,263 931 688 · 105 565 708\n"
   ]
  }
 ],
 "metadata": {
  "kernelspec": {
   "display_name": "Python 3 (ipykernel)",
   "language": "python",
   "name": "python3"
  },
  "language_info": {
   "codemirror_mode": {
    "name": "ipython",
    "version": 3
   },
   "file_extension": ".py",
   "mimetype": "text/x-python",
   "name": "python",
   "nbconvert_exporter": "python",
   "pygments_lexer": "ipython3",
   "version": "3.13.5"
  }
 },
 "nbformat": 4,
 "nbformat_minor": 5
}
