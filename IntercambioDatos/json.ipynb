{
 "cells": [
  {
   "cell_type": "code",
   "execution_count": 6,
   "id": "e9245f41-75f2-4d02-83e4-1fd2f4b1264f",
   "metadata": {},
   "outputs": [
    {
     "name": "stdin",
     "output_type": "stream",
     "text": [
      "Ingrese usuario:  Sam\n",
      "Ingrese ubicación:  NYC\n",
      "Ingrese si esta online o no:  0\n",
      "Ingrese el numero de seguidores:  88\n"
     ]
    },
    {
     "name": "stdout",
     "output_type": "stream",
     "text": [
      "{'usuario': 'Sam', 'ubicacion': 'NYC', 'online': False, 'seguidores': 88}\n"
     ]
    }
   ],
   "source": [
    "import json\n",
    "\n",
    "usuario = input(\"Ingrese usuario: \")\n",
    "ubicacion = input(\"Ingrese ubicación: \")\n",
    "online = bool(int(input(\"Ingrese si esta online o no: \")))\n",
    "seguidores = int(input(\"Ingrese el numero de seguidores: \"))\n",
    "\n",
    "diccionario = {\n",
    "    \"usuario\": usuario,\n",
    "    \"ubicacion\": ubicacion,\n",
    "    \"online\": online,\n",
    "    \"seguidores\": seguidores\n",
    "}\n",
    "\n",
    "print(diccionario)\n"
   ]
  },
  {
   "cell_type": "code",
   "execution_count": 7,
   "id": "e8fd0e73-1da1-4b8b-aee7-443718c10d43",
   "metadata": {},
   "outputs": [
    {
     "name": "stdout",
     "output_type": "stream",
     "text": [
      "{\"usuario\": \"Sam\", \"ubicacion\": \"NYC\", \"online\": false, \"seguidores\": 88}\n"
     ]
    }
   ],
   "source": [
    "#Para transformar un diccionario a JSON se utiliza el comando\n",
    "#json.dumps\n",
    "\n",
    "json1 = json.dumps(diccionario)\n",
    "print(json1)"
   ]
  },
  {
   "cell_type": "code",
   "execution_count": 9,
   "id": "e17fbb92-a8b1-41e1-ad5c-6af11686da52",
   "metadata": {},
   "outputs": [
    {
     "name": "stdout",
     "output_type": "stream",
     "text": [
      "{'usuario': 'Sam', 'ubicacion': 'NYC', 'online': False, 'seguidores': 88}\n"
     ]
    }
   ],
   "source": [
    "#Para transformar un JSON a diccionario  se utiliza el comando\n",
    "#json.loads\n",
    "\n",
    "diccionarioRegresado = json.loads(json1)\n",
    "print(diccionarioRegresado)"
   ]
  },
  {
   "cell_type": "code",
   "execution_count": null,
   "id": "264166e3-eff8-432f-b335-da1be0c72cef",
   "metadata": {},
   "outputs": [],
   "source": []
  }
 ],
 "metadata": {
  "kernelspec": {
   "display_name": "Python 3 (ipykernel)",
   "language": "python",
   "name": "python3"
  },
  "language_info": {
   "codemirror_mode": {
    "name": "ipython",
    "version": 3
   },
   "file_extension": ".py",
   "mimetype": "text/x-python",
   "name": "python",
   "nbconvert_exporter": "python",
   "pygments_lexer": "ipython3",
   "version": "3.13.5"
  }
 },
 "nbformat": 4,
 "nbformat_minor": 5
}
