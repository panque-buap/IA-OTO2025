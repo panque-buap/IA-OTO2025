{
 "cells": [
  {
   "cell_type": "code",
   "execution_count": 1,
   "id": "a6d8aabf-b276-487d-a398-5b83d594adbf",
   "metadata": {},
   "outputs": [
    {
     "name": "stdout",
     "output_type": "stream",
     "text": [
      "Hola Mundo\n"
     ]
    }
   ],
   "source": [
    "#Programa para adquirir e imprimir datos con Python\n",
    "\n",
    "# input se utiliza para adquirir datos\n",
    "# print se utiliza para imprimir datos\n",
    "\n",
    "print(\"Hola Mundo\")"
   ]
  },
  {
   "cell_type": "code",
   "execution_count": 8,
   "id": "4954f890-b931-4e4f-b7ed-ab5c479673de",
   "metadata": {},
   "outputs": [
    {
     "name": "stdin",
     "output_type": "stream",
     "text": [
      "Ingrese aquí un dato numérico para trabajar con el:  12\n"
     ]
    }
   ],
   "source": [
    "variableEntrada = input(\"Ingrese aquí un dato numérico para trabajar con el: \")"
   ]
  },
  {
   "cell_type": "code",
   "execution_count": 9,
   "id": "97ff795d-e6df-4e61-a846-39e1e9d583ee",
   "metadata": {},
   "outputs": [],
   "source": [
    "#Python es un lenguaje de programación de tipado dinámico\n",
    "\n",
    "variableNumero = 5\n"
   ]
  },
  {
   "cell_type": "code",
   "execution_count": null,
   "id": "5ac76e6f-f0f3-4c30-8486-8f4f3e83cc37",
   "metadata": {},
   "outputs": [],
   "source": []
  }
 ],
 "metadata": {
  "kernelspec": {
   "display_name": "Python 3 (ipykernel)",
   "language": "python",
   "name": "python3"
  },
  "language_info": {
   "codemirror_mode": {
    "name": "ipython",
    "version": 3
   },
   "file_extension": ".py",
   "mimetype": "text/x-python",
   "name": "python",
   "nbconvert_exporter": "python",
   "pygments_lexer": "ipython3",
   "version": "3.13.5"
  }
 },
 "nbformat": 4,
 "nbformat_minor": 5
}
