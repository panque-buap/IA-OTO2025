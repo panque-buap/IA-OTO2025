{
 "cells": [
  {
   "cell_type": "code",
   "execution_count": 3,
   "id": "2478d967",
   "metadata": {},
   "outputs": [],
   "source": [
    "from logic import *\n"
   ]
  },
  {
   "cell_type": "code",
   "execution_count": 8,
   "id": "7207cdc1",
   "metadata": {},
   "outputs": [
    {
     "name": "stdout",
     "output_type": "stream",
     "text": [
      "And(Implication(El día de hoy es lunes, Hoy a viajo a CDMX), Or(Hoy a viajo a CDMX, Hoy viajo a MTY), Hoy viajo a MTY, Not(And(Hoy a viajo a CDMX, Hoy viajo a MTY)))\n",
      "\n",
      "El día de hoy es lunes = False\n",
      "Hoy a viajo a CDMX = False\n",
      "Hoy viajo a MTY = True\n"
     ]
    }
   ],
   "source": [
    "#Conocimiento1   Si es lunes, entonces viajo a la CDMX\n",
    "#Conocimiento2   Yo puedo viajar a la CDMX o a MTY\n",
    "#Conocimiento3   Hoy viajo a MTY\n",
    "#Conocimiento4   No puedo viajar a la CDMX y a MTY el mismo día\n",
    "\n",
    "def checar_conclusiones(conocimiento):\n",
    "    \n",
    "    for symbol in symbols:\n",
    "        print(f\"{symbol} = {model_check(conocimiento, symbol)}\")\n",
    "#--------------------------------------------\n",
    "\n",
    "#Hoy no es lunes\n",
    "#Hoy no viajo a la CDMX\n",
    "\n",
    "#logica simbolica       #lógica proposicional\n",
    "dia_lunes           =    Symbol(\"El día de hoy es lunes\")\n",
    "CDMX                =    Symbol(\"Hoy a viajo a CDMX\")\n",
    "MTY                 =    Symbol(\"Hoy viajo a MTY\")\n",
    "\n",
    "conocimiento1 = Implication(dia_lunes, CDMX)\n",
    "conocimiento2 = Or(CDMX, MTY)\n",
    "conocimiento3 = MTY\n",
    "conocimiento4 = Not(And(CDMX, MTY))\n",
    "\n",
    "conocimientoFinal = And(conocimiento1,\n",
    "                       conocimiento2,\n",
    "                       conocimiento3,\n",
    "                       conocimiento4)\n",
    "\n",
    "symbols = [dia_lunes, CDMX, MTY]\n",
    "\n",
    "print(conocimientoFinal)\n",
    "print(\"\")\n",
    "\n",
    "\n",
    "checar_conclusiones(conocimientoFinal)\n",
    "\n",
    "\n"
   ]
  },
  {
   "cell_type": "code",
   "execution_count": null,
   "id": "d4bb8676",
   "metadata": {},
   "outputs": [],
   "source": []
  },
  {
   "cell_type": "code",
   "execution_count": null,
   "id": "2e381cc0",
   "metadata": {},
   "outputs": [],
   "source": []
  }
 ],
 "metadata": {
  "kernelspec": {
   "display_name": "Python 3 (ipykernel)",
   "language": "python",
   "name": "python3"
  },
  "language_info": {
   "codemirror_mode": {
    "name": "ipython",
    "version": 3
   },
   "file_extension": ".py",
   "mimetype": "text/x-python",
   "name": "python",
   "nbconvert_exporter": "python",
   "pygments_lexer": "ipython3",
   "version": "3.9.13"
  }
 },
 "nbformat": 4,
 "nbformat_minor": 5
}
