{
 "cells": [
  {
   "cell_type": "code",
   "execution_count": null,
   "id": "d278f04c-d3c1-48e7-bb95-2c7ee199ba71",
   "metadata": {},
   "outputs": [],
   "source": [
    "#Este código esta pensado para utilizar el paradigma de programación orientado a objetos y hace uso de los 4 pilares siguientes:\n",
    "# 1. Abstracción\n",
    "# 2. Encapsulación\n",
    "# 3. Herencia\n",
    "# 4. Polimorfismo"
   ]
  },
  {
   "cell_type": "code",
   "execution_count": 2,
   "id": "15ffdcdc-0068-4337-98b4-8f6622cb74fd",
   "metadata": {},
   "outputs": [],
   "source": [
    "#Abstracción\n",
    "\n",
    "class Personaje:\n",
    "    pass\n",
    "\n",
    "class Mundo:\n",
    "    pass\n",
    "\n",
    "class Enemigo:\n",
    "    pass\n",
    "\n",
    "\n",
    "    "
   ]
  },
  {
   "cell_type": "code",
   "execution_count": null,
   "id": "f7b73249-eda2-4a3b-9cce-321b1a99aa48",
   "metadata": {},
   "outputs": [],
   "source": [
    "#Encapsulación\n",
    "\n",
    "#Colocar atributos y métodos a los objetos de cada clase\n",
    "#los atributos representan valores del objeto\n",
    "#mientras que los métodos represetan funcionalidades del objeto\n",
    "\n",
    "class Personaje:\n",
    "\n",
    "    nombre \n",
    "    salud\n",
    "    \n",
    "    pass"
   ]
  }
 ],
 "metadata": {
  "kernelspec": {
   "display_name": "Python 3 (ipykernel)",
   "language": "python",
   "name": "python3"
  },
  "language_info": {
   "codemirror_mode": {
    "name": "ipython",
    "version": 3
   },
   "file_extension": ".py",
   "mimetype": "text/x-python",
   "name": "python",
   "nbconvert_exporter": "python",
   "pygments_lexer": "ipython3",
   "version": "3.13.5"
  }
 },
 "nbformat": 4,
 "nbformat_minor": 5
}
