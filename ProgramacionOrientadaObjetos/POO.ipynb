{
 "cells": [
  {
   "cell_type": "code",
   "execution_count": null,
   "id": "d278f04c-d3c1-48e7-bb95-2c7ee199ba71",
   "metadata": {},
   "outputs": [],
   "source": [
    "#Este código esta pensado para utilizar el paradigma de programación orientado a objetos y hace uso de los 4 pilares siguientes:\n",
    "# 1. Abstracción\n",
    "# 2. Encapsulación\n",
    "# 3. Herencia\n",
    "# 4. Polimorfismo"
   ]
  },
  {
   "cell_type": "code",
   "execution_count": 2,
   "id": "15ffdcdc-0068-4337-98b4-8f6622cb74fd",
   "metadata": {},
   "outputs": [],
   "source": [
    "#Abstracción\n",
    "\n",
    "class Personaje:\n",
    "    pass\n",
    "\n",
    "class Mundo:\n",
    "    pass\n",
    "\n",
    "class Enemigo:\n",
    "    pass\n",
    "\n",
    "\n",
    "    "
   ]
  },
  {
   "cell_type": "code",
   "execution_count": 45,
   "id": "f7b73249-eda2-4a3b-9cce-321b1a99aa48",
   "metadata": {},
   "outputs": [],
   "source": [
    "#Encapsulación\n",
    "\n",
    "#Colocar atributos y métodos a los objetos de cada clase\n",
    "#los atributos representan valores del objeto\n",
    "#mientras que los métodos represetan funcionalidades del objeto\n",
    "\n",
    "class Personaje:\n",
    "\n",
    "    # nombre = nombre\n",
    "    # salud = salud\n",
    "    # energia = energia\n",
    "\n",
    "    def __init__(self, nombre, salud, energia, posX):  #método constructor\n",
    "        self.nombre = nombre\n",
    "        self.salud = salud\n",
    "        self.energia = energia\n",
    "        self.posX = posX\n",
    "\n",
    "    def caminarAdelante(self):\n",
    "        self.posX = self.posX + 1\n",
    "        print(\"Este método le permite caminar al objeto (personaje)\")\n",
    "        print(self.posX)\n",
    "\n",
    "    def caminarAtras(self):\n",
    "        self.posX = self.posX - 1\n",
    "        print(\"Este método le permite caminar al objeto (personaje)\")\n",
    "        print(self.posX)\n",
    "\n",
    "    def atacar():\n",
    "        print(\"Este método le permite atacar a mi objeto (personaje)\")\n",
    "        \n"
   ]
  },
  {
   "cell_type": "code",
   "execution_count": 48,
   "id": "b7c41ba1-ea24-46f8-8865-72d9a7d50c50",
   "metadata": {},
   "outputs": [],
   "source": [
    "#Herencia \n",
    "\n",
    "#El pilar de la herencia permite que yo pueda crear nuevos objetos conservando\n",
    "#atributos y metodos de otro.\n",
    "\n",
    "class PersonajeMagico(Personaje):\n",
    "\n",
    "    def __init__(self, nombre, salud, energia, posX, magia):  #método constructor\n",
    "        super().__init__(nombre, salud, energia, posX)\n",
    "        self.magia = magia\n",
    "\n",
    "    def caminarAdelante(self):\n",
    "        self.posX = self.posX + 1\n",
    "        print(\"Este método le permite caminar al objeto (personaje)\")\n",
    "        print(self.posX)\n",
    "\n",
    "    def caminarAtras(self):\n",
    "        self.posX = self.posX - 1\n",
    "        print(\"Este método le permite caminar al objeto (personaje)\")\n",
    "        print(self.posX)\n",
    "\n",
    "    def atacar():\n",
    "        print(\"Este método le permite atacar a mi objeto (personaje)\")\n",
    "\n",
    "\n",
    "        "
   ]
  },
  {
   "cell_type": "code",
   "execution_count": 54,
   "id": "0efdba4f-021f-4ab5-850c-2bbae1b1d2ae",
   "metadata": {},
   "outputs": [
    {
     "name": "stdout",
     "output_type": "stream",
     "text": [
      "¡Miau!\n",
      "\n",
      "¡Guau!\n"
     ]
    }
   ],
   "source": [
    "#Polimorfismo \n",
    "\n",
    "#Este pilar permite que un objeto tome multiples formas\n",
    "#Es cuando un método se llama igual pero sirve para varias clases\n",
    "\n",
    "#Permite que un mismo método \n",
    "#se comporte de forma diferente según el objeto que lo invoque.\n",
    "\n",
    "class Animal:\n",
    "    def hablar(self):\n",
    "        pass\n",
    " \n",
    "class Perro(Animal):\n",
    "    def hablar(self):\n",
    "        print(\"¡Guau!\")\n",
    " \n",
    "class Gato(Animal):\n",
    "      \n",
    "    def hablar(self):\n",
    "        print(\"¡Miau!\")\n",
    " \n",
    "def hacer_hablar(animal):\n",
    "    animal.hablar()\n",
    "\n",
    "Siames = Gato()\n",
    "Siames.hablar()\n",
    "\n",
    "print(\"\")\n",
    "\n",
    "Doberman = Perro()\n",
    "Doberman.hablar()"
   ]
  },
  {
   "cell_type": "code",
   "execution_count": 47,
   "id": "868cd8bb-bee6-42af-ab61-9978b7d33969",
   "metadata": {},
   "outputs": [
    {
     "name": "stdout",
     "output_type": "stream",
     "text": [
      "10\n"
     ]
    }
   ],
   "source": [
    "YoshiMagico = PersonajeMagico(\"Dino\", 120, 90, 0, 10)\n",
    "print(YoshiMagico.magia)"
   ]
  },
  {
   "cell_type": "code",
   "execution_count": 41,
   "id": "d29489fd-68a8-4e19-bd64-13c0a3d11bd6",
   "metadata": {},
   "outputs": [],
   "source": [
    "Yoshi = Personaje(\"Dinosaur\", 100, 80, 0)\n",
    "Luigi = Personaje(\"Luis\", 80, 70, 0)"
   ]
  },
  {
   "cell_type": "code",
   "execution_count": 42,
   "id": "b914b8db-e568-4d34-aa2c-5c227b249b4f",
   "metadata": {},
   "outputs": [
    {
     "name": "stdout",
     "output_type": "stream",
     "text": [
      "Dinosaur\n",
      "100\n",
      "80\n",
      "\n",
      "Luis\n",
      "80\n",
      "70\n"
     ]
    }
   ],
   "source": [
    "print(Yoshi.nombre)\n",
    "print(Yoshi.salud)\n",
    "print(Yoshi.energia)\n",
    "print(\"\")\n",
    "print(Luigi.nombre)\n",
    "print(Luigi.salud)\n",
    "print(Luigi.energia)"
   ]
  },
  {
   "cell_type": "code",
   "execution_count": 43,
   "id": "16e7e5ab-578c-41b8-8db1-f1120f4bef1c",
   "metadata": {},
   "outputs": [
    {
     "name": "stdout",
     "output_type": "stream",
     "text": [
      "Este método le permite caminar al objeto (personaje)\n",
      "1\n",
      "Este método le permite caminar al objeto (personaje)\n",
      "2\n",
      "Este método le permite caminar al objeto (personaje)\n",
      "3\n",
      "Este método le permite caminar al objeto (personaje)\n",
      "4\n",
      "Este método le permite caminar al objeto (personaje)\n",
      "5\n"
     ]
    }
   ],
   "source": [
    "Yoshi.caminarAdelante()\n",
    "Yoshi.caminarAdelante()\n",
    "Yoshi.caminarAdelante()\n",
    "Yoshi.caminarAdelante()\n",
    "Yoshi.caminarAdelante()"
   ]
  },
  {
   "cell_type": "code",
   "execution_count": 44,
   "id": "d19226e0-05a4-4201-852b-5ea90db7699e",
   "metadata": {},
   "outputs": [
    {
     "name": "stdout",
     "output_type": "stream",
     "text": [
      "Este método le permite caminar al objeto (personaje)\n",
      "4\n"
     ]
    }
   ],
   "source": [
    "Yoshi.caminarAtras()"
   ]
  },
  {
   "cell_type": "code",
   "execution_count": 24,
   "id": "e7b4a108-9c50-43da-ac6b-e74a8106c3ca",
   "metadata": {},
   "outputs": [
    {
     "name": "stdout",
     "output_type": "stream",
     "text": [
      "<class 'list'>\n"
     ]
    }
   ],
   "source": [
    "numero = [1, 2, 5]\n",
    "print(type(numero))"
   ]
  },
  {
   "cell_type": "code",
   "execution_count": null,
   "id": "0cf3782b-a298-41f5-894e-d0ee2e24b794",
   "metadata": {},
   "outputs": [],
   "source": []
  }
 ],
 "metadata": {
  "kernelspec": {
   "display_name": "Python 3 (ipykernel)",
   "language": "python",
   "name": "python3"
  },
  "language_info": {
   "codemirror_mode": {
    "name": "ipython",
    "version": 3
   },
   "file_extension": ".py",
   "mimetype": "text/x-python",
   "name": "python",
   "nbconvert_exporter": "python",
   "pygments_lexer": "ipython3",
   "version": "3.13.5"
  }
 },
 "nbformat": 4,
 "nbformat_minor": 5
}
